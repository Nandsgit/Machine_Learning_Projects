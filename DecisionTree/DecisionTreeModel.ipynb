{
 "cells": [
  {
   "cell_type": "markdown",
   "metadata": {},
   "source": [
    "# <b>CS156 (Introduction to AI), Fall 2021</b>\n",
    "# <u><b>Homework 5 submission</b></u>"
   ]
  },
  {
   "cell_type": "markdown",
   "metadata": {},
   "source": [
    "### Roster Name: Nand Kishore Khuswaha\n",
    "### Student ID: 013920192\n",
    "### Email address: nandkishore.khuswaha@sjsu.edu\n",
    "Any special notes or anything you would like to communicate to me about this homework submission goes in here."
   ]
  },
  {
   "cell_type": "markdown",
   "metadata": {},
   "source": [
    "##  <u>References and sources </u>"
   ]
  },
  {
   "cell_type": "markdown",
   "metadata": {},
   "source": [
    "List all your references and sources here.\n",
    "This includes all sites/discussion boards/blogs/posts/etc. where you grabbed some code examples.\n",
    "\n",
    "1) DecisionTrees.Breast.ipynb (class files)"
   ]
  },
  {
   "cell_type": "markdown",
   "metadata": {},
   "source": [
    "##  <u>Solution</u>"
   ]
  },
  {
   "cell_type": "markdown",
   "metadata": {},
   "source": [
    "#### Load libraries and set random number generator seed"
   ]
  },
  {
   "cell_type": "code",
   "execution_count": 1,
   "metadata": {},
   "outputs": [],
   "source": [
    "import numpy as np\n",
    "import pandas as pd\n",
    "from sklearn.model_selection import train_test_split\n",
    "from sklearn.tree import DecisionTreeClassifier\n",
    "from sklearn.model_selection import cross_val_score\n",
    "import matplotlib.pyplot as plt\n",
    "from sklearn.metrics import plot_confusion_matrix"
   ]
  },
  {
   "cell_type": "code",
   "execution_count": 2,
   "metadata": {},
   "outputs": [],
   "source": [
    "np.random.seed(42)"
   ]
  },
  {
   "cell_type": "markdown",
   "metadata": {},
   "source": [
    "#### Code the solution"
   ]
  },
  {
   "cell_type": "code",
   "execution_count": 3,
   "metadata": {},
   "outputs": [],
   "source": [
    "# 1.Load the data.\n",
    "datafile = pd.read_csv(\"/Users/becoming1/Desktop/homework5_input_data.csv\")"
   ]
  },
  {
   "cell_type": "code",
   "execution_count": 4,
   "metadata": {},
   "outputs": [
    {
     "name": "stdout",
     "output_type": "stream",
     "text": [
      "     class cap-shape cap-surface cap-color bruises odor gill-attachment  \\\n",
      "0        p         x           s         n       t    p               f   \n",
      "1        e         x           s         y       t    a               f   \n",
      "2        e         b           s         w       t    l               f   \n",
      "3        p         x           y         w       t    p               f   \n",
      "4        e         x           s         g       f    n               f   \n",
      "5        e         x           y         y       t    a               f   \n",
      "6        e         b           s         w       t    a               f   \n",
      "7        e         b           y         w       t    l               f   \n",
      "8        p         x           y         w       t    p               f   \n",
      "9        e         b           s         y       t    a               f   \n",
      "10       e         x           y         y       t    l               f   \n",
      "11       e         x           y         y       t    a               f   \n",
      "12       e         b           s         y       t    a               f   \n",
      "13       p         x           y         w       t    p               f   \n",
      "14       e         x           f         n       f    n               f   \n",
      "15       e         s           f         g       f    n               f   \n",
      "16       e         f           f         w       f    n               f   \n",
      "17       p         x           s         n       t    p               f   \n",
      "18       p         x           y         w       t    p               f   \n",
      "19       p         x           s         n       t    p               f   \n",
      "20       e         b           s         y       t    a               f   \n",
      "21       p         x           y         n       t    p               f   \n",
      "22       e         b           y         y       t    l               f   \n",
      "23       e         b           y         w       t    a               f   \n",
      "24       e         b           s         w       t    l               f   \n",
      "25       p         f           s         w       t    p               f   \n",
      "26       e         x           y         y       t    a               f   \n",
      "27       e         x           y         w       t    l               f   \n",
      "28       e         f           f         n       f    n               f   \n",
      "29       e         x           s         y       t    a               f   \n",
      "...    ...       ...         ...       ...     ...  ...             ...   \n",
      "8094     e         b           s         g       f    n               f   \n",
      "8095     p         x           y         c       f    m               f   \n",
      "8096     e         k           f         w       f    n               f   \n",
      "8097     p         k           y         n       f    s               f   \n",
      "8098     p         k           s         e       f    y               f   \n",
      "8099     e         k           f         w       f    n               f   \n",
      "8100     e         f           s         n       f    n               a   \n",
      "8101     p         k           s         e       f    s               f   \n",
      "8102     e         x           s         n       f    n               a   \n",
      "8103     e         k           s         n       f    n               a   \n",
      "8104     e         k           s         n       f    n               a   \n",
      "8105     e         k           s         n       f    n               a   \n",
      "8106     e         k           s         n       f    n               a   \n",
      "8107     e         x           s         n       f    n               a   \n",
      "8108     p         k           y         e       f    y               f   \n",
      "8109     e         b           s         w       f    n               f   \n",
      "8110     e         x           s         n       f    n               a   \n",
      "8111     e         k           s         w       f    n               f   \n",
      "8112     e         k           s         n       f    n               a   \n",
      "8113     p         k           y         e       f    y               f   \n",
      "8114     p         f           y         c       f    m               a   \n",
      "8115     e         x           s         n       f    n               a   \n",
      "8116     p         k           y         n       f    s               f   \n",
      "8117     p         k           s         e       f    y               f   \n",
      "8118     p         k           y         n       f    f               f   \n",
      "8119     e         k           s         n       f    n               a   \n",
      "8120     e         x           s         n       f    n               a   \n",
      "8121     e         f           s         n       f    n               a   \n",
      "8122     p         k           y         n       f    y               f   \n",
      "8123     e         x           s         n       f    n               a   \n",
      "\n",
      "     gill-spacing gill-size gill-color  ... stalk-surface-below-ring  \\\n",
      "0               c         n          k  ...                        s   \n",
      "1               c         b          k  ...                        s   \n",
      "2               c         b          n  ...                        s   \n",
      "3               c         n          n  ...                        s   \n",
      "4               w         b          k  ...                        s   \n",
      "5               c         b          n  ...                        s   \n",
      "6               c         b          g  ...                        s   \n",
      "7               c         b          n  ...                        s   \n",
      "8               c         n          p  ...                        s   \n",
      "9               c         b          g  ...                        s   \n",
      "10              c         b          g  ...                        s   \n",
      "11              c         b          n  ...                        s   \n",
      "12              c         b          w  ...                        s   \n",
      "13              c         n          k  ...                        s   \n",
      "14              w         b          n  ...                        f   \n",
      "15              c         n          k  ...                        s   \n",
      "16              w         b          k  ...                        s   \n",
      "17              c         n          n  ...                        s   \n",
      "18              c         n          n  ...                        s   \n",
      "19              c         n          k  ...                        s   \n",
      "20              c         b          k  ...                        s   \n",
      "21              c         n          n  ...                        s   \n",
      "22              c         b          k  ...                        s   \n",
      "23              c         b          w  ...                        s   \n",
      "24              c         b          g  ...                        s   \n",
      "25              c         n          n  ...                        s   \n",
      "26              c         b          n  ...                        s   \n",
      "27              c         b          w  ...                        s   \n",
      "28              c         n          k  ...                        s   \n",
      "29              w         n          n  ...                        s   \n",
      "...           ...       ...        ...  ...                      ...   \n",
      "8094            w         b          g  ...                        s   \n",
      "8095            c         b          y  ...                        y   \n",
      "8096            w         b          w  ...                        s   \n",
      "8097            c         n          b  ...                        k   \n",
      "8098            c         n          b  ...                        k   \n",
      "8099            w         b          w  ...                        k   \n",
      "8100            c         b          o  ...                        s   \n",
      "8101            c         n          b  ...                        s   \n",
      "8102            c         b          y  ...                        s   \n",
      "8103            c         b          y  ...                        s   \n",
      "8104            c         b          y  ...                        s   \n",
      "8105            c         b          y  ...                        s   \n",
      "8106            c         b          o  ...                        s   \n",
      "8107            c         b          y  ...                        s   \n",
      "8108            c         n          b  ...                        s   \n",
      "8109            w         b          w  ...                        s   \n",
      "8110            c         b          o  ...                        s   \n",
      "8111            w         b          p  ...                        s   \n",
      "8112            c         b          o  ...                        s   \n",
      "8113            c         n          b  ...                        k   \n",
      "8114            c         b          y  ...                        y   \n",
      "8115            c         b          y  ...                        s   \n",
      "8116            c         n          b  ...                        k   \n",
      "8117            c         n          b  ...                        s   \n",
      "8118            c         n          b  ...                        s   \n",
      "8119            c         b          y  ...                        s   \n",
      "8120            c         b          y  ...                        s   \n",
      "8121            c         b          n  ...                        s   \n",
      "8122            c         n          b  ...                        k   \n",
      "8123            c         b          y  ...                        s   \n",
      "\n",
      "     stalk-color-above-ring stalk-color-below-ring veil-type veil-color  \\\n",
      "0                         w                      w         p          w   \n",
      "1                         w                      w         p          w   \n",
      "2                         w                      w         p          w   \n",
      "3                         w                      w         p          w   \n",
      "4                         w                      w         p          w   \n",
      "5                         w                      w         p          w   \n",
      "6                         w                      w         p          w   \n",
      "7                         w                      w         p          w   \n",
      "8                         w                      w         p          w   \n",
      "9                         w                      w         p          w   \n",
      "10                        w                      w         p          w   \n",
      "11                        w                      w         p          w   \n",
      "12                        w                      w         p          w   \n",
      "13                        w                      w         p          w   \n",
      "14                        w                      w         p          w   \n",
      "15                        w                      w         p          w   \n",
      "16                        w                      w         p          w   \n",
      "17                        w                      w         p          w   \n",
      "18                        w                      w         p          w   \n",
      "19                        w                      w         p          w   \n",
      "20                        w                      w         p          w   \n",
      "21                        w                      w         p          w   \n",
      "22                        w                      w         p          w   \n",
      "23                        w                      w         p          w   \n",
      "24                        w                      w         p          w   \n",
      "25                        w                      w         p          w   \n",
      "26                        w                      w         p          w   \n",
      "27                        w                      w         p          w   \n",
      "28                        w                      w         p          w   \n",
      "29                        w                      w         p          w   \n",
      "...                     ...                    ...       ...        ...   \n",
      "8094                      w                      w         p          w   \n",
      "8095                      c                      c         p          w   \n",
      "8096                      w                      w         p          w   \n",
      "8097                      p                      p         p          w   \n",
      "8098                      w                      p         p          w   \n",
      "8099                      w                      w         p          w   \n",
      "8100                      o                      o         p          n   \n",
      "8101                      p                      w         p          w   \n",
      "8102                      o                      o         p          n   \n",
      "8103                      o                      o         p          n   \n",
      "8104                      o                      o         p          o   \n",
      "8105                      o                      o         p          n   \n",
      "8106                      o                      o         p          o   \n",
      "8107                      o                      o         p          o   \n",
      "8108                      p                      w         p          w   \n",
      "8109                      w                      w         p          w   \n",
      "8110                      o                      o         p          o   \n",
      "8111                      w                      w         p          w   \n",
      "8112                      o                      o         p          n   \n",
      "8113                      p                      p         p          w   \n",
      "8114                      c                      c         p          w   \n",
      "8115                      o                      o         p          o   \n",
      "8116                      p                      w         p          w   \n",
      "8117                      p                      w         p          w   \n",
      "8118                      p                      w         p          w   \n",
      "8119                      o                      o         p          o   \n",
      "8120                      o                      o         p          n   \n",
      "8121                      o                      o         p          o   \n",
      "8122                      w                      w         p          w   \n",
      "8123                      o                      o         p          o   \n",
      "\n",
      "     ring-number ring-type spore-print-color population habitat  \n",
      "0              o         p                 k          s       u  \n",
      "1              o         p                 n          n       g  \n",
      "2              o         p                 n          n       m  \n",
      "3              o         p                 k          s       u  \n",
      "4              o         e                 n          a       g  \n",
      "5              o         p                 k          n       g  \n",
      "6              o         p                 k          n       m  \n",
      "7              o         p                 n          s       m  \n",
      "8              o         p                 k          v       g  \n",
      "9              o         p                 k          s       m  \n",
      "10             o         p                 n          n       g  \n",
      "11             o         p                 k          s       m  \n",
      "12             o         p                 n          s       g  \n",
      "13             o         p                 n          v       u  \n",
      "14             o         e                 k          a       g  \n",
      "15             o         p                 n          y       u  \n",
      "16             o         e                 n          a       g  \n",
      "17             o         p                 k          s       g  \n",
      "18             o         p                 n          s       u  \n",
      "19             o         p                 n          s       u  \n",
      "20             o         p                 n          s       m  \n",
      "21             o         p                 n          v       g  \n",
      "22             o         p                 n          s       m  \n",
      "23             o         p                 n          n       m  \n",
      "24             o         p                 k          s       m  \n",
      "25             o         p                 n          v       g  \n",
      "26             o         p                 n          n       m  \n",
      "27             o         p                 n          n       m  \n",
      "28             o         p                 k          y       u  \n",
      "29             o         p                 n          v       d  \n",
      "...          ...       ...               ...        ...     ...  \n",
      "8094           t         p                 w          n       g  \n",
      "8095           n         n                 w          c       d  \n",
      "8096           t         p                 w          n       g  \n",
      "8097           o         e                 w          v       l  \n",
      "8098           o         e                 w          v       d  \n",
      "8099           t         p                 w          s       g  \n",
      "8100           o         p                 b          v       l  \n",
      "8101           o         e                 w          v       p  \n",
      "8102           o         p                 n          c       l  \n",
      "8103           o         p                 o          c       l  \n",
      "8104           o         p                 n          v       l  \n",
      "8105           o         p                 y          v       l  \n",
      "8106           o         p                 n          v       l  \n",
      "8107           o         p                 n          c       l  \n",
      "8108           o         e                 w          v       l  \n",
      "8109           t         p                 w          n       g  \n",
      "8110           o         p                 n          v       l  \n",
      "8111           t         p                 w          n       g  \n",
      "8112           o         p                 b          v       l  \n",
      "8113           o         e                 w          v       d  \n",
      "8114           n         n                 w          c       d  \n",
      "8115           o         p                 o          v       l  \n",
      "8116           o         e                 w          v       l  \n",
      "8117           o         e                 w          v       d  \n",
      "8118           o         e                 w          v       d  \n",
      "8119           o         p                 b          c       l  \n",
      "8120           o         p                 b          v       l  \n",
      "8121           o         p                 b          c       l  \n",
      "8122           o         e                 w          v       l  \n",
      "8123           o         p                 o          c       l  \n",
      "\n",
      "[8124 rows x 23 columns]\n"
     ]
    }
   ],
   "source": [
    "print(datafile)"
   ]
  },
  {
   "cell_type": "code",
   "execution_count": 5,
   "metadata": {},
   "outputs": [],
   "source": [
    "X= datafile.loc[ : ,datafile.columns != 'class']\n",
    "Y = datafile['class']\n",
    "class_names = ['p', 'e']"
   ]
  },
  {
   "cell_type": "code",
   "execution_count": null,
   "metadata": {},
   "outputs": [],
   "source": []
  },
  {
   "cell_type": "code",
   "execution_count": null,
   "metadata": {},
   "outputs": [],
   "source": []
  },
  {
   "cell_type": "code",
   "execution_count": 6,
   "metadata": {},
   "outputs": [
    {
     "data": {
      "text/html": [
       "<div>\n",
       "<style scoped>\n",
       "    .dataframe tbody tr th:only-of-type {\n",
       "        vertical-align: middle;\n",
       "    }\n",
       "\n",
       "    .dataframe tbody tr th {\n",
       "        vertical-align: top;\n",
       "    }\n",
       "\n",
       "    .dataframe thead th {\n",
       "        text-align: right;\n",
       "    }\n",
       "</style>\n",
       "<table border=\"1\" class=\"dataframe\">\n",
       "  <thead>\n",
       "    <tr style=\"text-align: right;\">\n",
       "      <th></th>\n",
       "      <th>cap-shape_b</th>\n",
       "      <th>cap-shape_c</th>\n",
       "      <th>cap-shape_f</th>\n",
       "      <th>cap-shape_k</th>\n",
       "      <th>cap-shape_s</th>\n",
       "      <th>cap-shape_x</th>\n",
       "      <th>cap-surface_f</th>\n",
       "      <th>cap-surface_g</th>\n",
       "      <th>cap-surface_s</th>\n",
       "      <th>cap-surface_y</th>\n",
       "      <th>...</th>\n",
       "      <th>population_s</th>\n",
       "      <th>population_v</th>\n",
       "      <th>population_y</th>\n",
       "      <th>habitat_d</th>\n",
       "      <th>habitat_g</th>\n",
       "      <th>habitat_l</th>\n",
       "      <th>habitat_m</th>\n",
       "      <th>habitat_p</th>\n",
       "      <th>habitat_u</th>\n",
       "      <th>habitat_w</th>\n",
       "    </tr>\n",
       "  </thead>\n",
       "  <tbody>\n",
       "    <tr>\n",
       "      <th>0</th>\n",
       "      <td>0</td>\n",
       "      <td>0</td>\n",
       "      <td>0</td>\n",
       "      <td>0</td>\n",
       "      <td>0</td>\n",
       "      <td>1</td>\n",
       "      <td>0</td>\n",
       "      <td>0</td>\n",
       "      <td>1</td>\n",
       "      <td>0</td>\n",
       "      <td>...</td>\n",
       "      <td>1</td>\n",
       "      <td>0</td>\n",
       "      <td>0</td>\n",
       "      <td>0</td>\n",
       "      <td>0</td>\n",
       "      <td>0</td>\n",
       "      <td>0</td>\n",
       "      <td>0</td>\n",
       "      <td>1</td>\n",
       "      <td>0</td>\n",
       "    </tr>\n",
       "    <tr>\n",
       "      <th>1</th>\n",
       "      <td>0</td>\n",
       "      <td>0</td>\n",
       "      <td>0</td>\n",
       "      <td>0</td>\n",
       "      <td>0</td>\n",
       "      <td>1</td>\n",
       "      <td>0</td>\n",
       "      <td>0</td>\n",
       "      <td>1</td>\n",
       "      <td>0</td>\n",
       "      <td>...</td>\n",
       "      <td>0</td>\n",
       "      <td>0</td>\n",
       "      <td>0</td>\n",
       "      <td>0</td>\n",
       "      <td>1</td>\n",
       "      <td>0</td>\n",
       "      <td>0</td>\n",
       "      <td>0</td>\n",
       "      <td>0</td>\n",
       "      <td>0</td>\n",
       "    </tr>\n",
       "    <tr>\n",
       "      <th>2</th>\n",
       "      <td>1</td>\n",
       "      <td>0</td>\n",
       "      <td>0</td>\n",
       "      <td>0</td>\n",
       "      <td>0</td>\n",
       "      <td>0</td>\n",
       "      <td>0</td>\n",
       "      <td>0</td>\n",
       "      <td>1</td>\n",
       "      <td>0</td>\n",
       "      <td>...</td>\n",
       "      <td>0</td>\n",
       "      <td>0</td>\n",
       "      <td>0</td>\n",
       "      <td>0</td>\n",
       "      <td>0</td>\n",
       "      <td>0</td>\n",
       "      <td>1</td>\n",
       "      <td>0</td>\n",
       "      <td>0</td>\n",
       "      <td>0</td>\n",
       "    </tr>\n",
       "    <tr>\n",
       "      <th>3</th>\n",
       "      <td>0</td>\n",
       "      <td>0</td>\n",
       "      <td>0</td>\n",
       "      <td>0</td>\n",
       "      <td>0</td>\n",
       "      <td>1</td>\n",
       "      <td>0</td>\n",
       "      <td>0</td>\n",
       "      <td>0</td>\n",
       "      <td>1</td>\n",
       "      <td>...</td>\n",
       "      <td>1</td>\n",
       "      <td>0</td>\n",
       "      <td>0</td>\n",
       "      <td>0</td>\n",
       "      <td>0</td>\n",
       "      <td>0</td>\n",
       "      <td>0</td>\n",
       "      <td>0</td>\n",
       "      <td>1</td>\n",
       "      <td>0</td>\n",
       "    </tr>\n",
       "    <tr>\n",
       "      <th>4</th>\n",
       "      <td>0</td>\n",
       "      <td>0</td>\n",
       "      <td>0</td>\n",
       "      <td>0</td>\n",
       "      <td>0</td>\n",
       "      <td>1</td>\n",
       "      <td>0</td>\n",
       "      <td>0</td>\n",
       "      <td>1</td>\n",
       "      <td>0</td>\n",
       "      <td>...</td>\n",
       "      <td>0</td>\n",
       "      <td>0</td>\n",
       "      <td>0</td>\n",
       "      <td>0</td>\n",
       "      <td>1</td>\n",
       "      <td>0</td>\n",
       "      <td>0</td>\n",
       "      <td>0</td>\n",
       "      <td>0</td>\n",
       "      <td>0</td>\n",
       "    </tr>\n",
       "  </tbody>\n",
       "</table>\n",
       "<p>5 rows × 117 columns</p>\n",
       "</div>"
      ],
      "text/plain": [
       "   cap-shape_b  cap-shape_c  cap-shape_f  cap-shape_k  cap-shape_s  \\\n",
       "0            0            0            0            0            0   \n",
       "1            0            0            0            0            0   \n",
       "2            1            0            0            0            0   \n",
       "3            0            0            0            0            0   \n",
       "4            0            0            0            0            0   \n",
       "\n",
       "   cap-shape_x  cap-surface_f  cap-surface_g  cap-surface_s  cap-surface_y  \\\n",
       "0            1              0              0              1              0   \n",
       "1            1              0              0              1              0   \n",
       "2            0              0              0              1              0   \n",
       "3            1              0              0              0              1   \n",
       "4            1              0              0              1              0   \n",
       "\n",
       "   ...  population_s  population_v  population_y  habitat_d  habitat_g  \\\n",
       "0  ...             1             0             0          0          0   \n",
       "1  ...             0             0             0          0          1   \n",
       "2  ...             0             0             0          0          0   \n",
       "3  ...             1             0             0          0          0   \n",
       "4  ...             0             0             0          0          1   \n",
       "\n",
       "   habitat_l  habitat_m  habitat_p  habitat_u  habitat_w  \n",
       "0          0          0          0          1          0  \n",
       "1          0          0          0          0          0  \n",
       "2          0          1          0          0          0  \n",
       "3          0          0          0          1          0  \n",
       "4          0          0          0          0          0  \n",
       "\n",
       "[5 rows x 117 columns]"
      ]
     },
     "execution_count": 6,
     "metadata": {},
     "output_type": "execute_result"
    }
   ],
   "source": [
    "# 2.Convert categorical variable to numeric \n",
    "X_numeric = pd.get_dummies(X, columns = X.columns, prefix= X.columns)\n",
    "X_numeric.head()"
   ]
  },
  {
   "cell_type": "code",
   "execution_count": null,
   "metadata": {},
   "outputs": [],
   "source": []
  },
  {
   "cell_type": "code",
   "execution_count": null,
   "metadata": {},
   "outputs": [],
   "source": []
  },
  {
   "cell_type": "code",
   "execution_count": 7,
   "metadata": {},
   "outputs": [
    {
     "data": {
      "text/plain": [
       "((6499, 117), (6499,), (1625, 117), (1625,))"
      ]
     },
     "execution_count": 7,
     "metadata": {},
     "output_type": "execute_result"
    }
   ],
   "source": [
    "# 3. Break the data into the training and test datasets.\n",
    "X_train, X_test, Y_train, Y_test = train_test_split(X_numeric, Y, test_size=0.2, random_state=0)\n",
    "X_train.shape, Y_train.shape, X_test.shape, Y_test.shape"
   ]
  },
  {
   "cell_type": "code",
   "execution_count": 8,
   "metadata": {},
   "outputs": [
    {
     "data": {
      "text/plain": [
       "array([1., 1., 1., 1., 1.])"
      ]
     },
     "execution_count": 8,
     "metadata": {},
     "output_type": "execute_result"
    }
   ],
   "source": [
    "# 4.Train a decision tree model to predict the class variable\n",
    "model = DecisionTreeClassifier(random_state=0)\n",
    "\n",
    "# we can first score our model through cross validation (applicable to any supervised model we learn)\n",
    "cross_val_score(model, X_train, Y_train, cv=5)"
   ]
  },
  {
   "cell_type": "code",
   "execution_count": 9,
   "metadata": {},
   "outputs": [
    {
     "name": "stdout",
     "output_type": "stream",
     "text": [
      "Individual accuracies: [1. 1. 1. 1. 1.]\n",
      "Mean Accuracy : 1.00\n"
     ]
    }
   ],
   "source": [
    "# 4.Run and report results from 5-fold cross-validation\n",
    "crosValAcc = cross_val_score(model, X_train, Y_train,cv=5)\n",
    "crossValAccstr = str(crosValAcc) \n",
    "print('Individual accuracies: ' + crossValAccstr)\n",
    "meanAcc = sum(crosValAcc/5)\n",
    "print('Mean Accuracy : {:.2f}'.format(meanAcc))"
   ]
  },
  {
   "cell_type": "code",
   "execution_count": 10,
   "metadata": {},
   "outputs": [
    {
     "name": "stdout",
     "output_type": "stream",
     "text": [
      "Accuracy on training set: 1.00\n",
      "Accuracy on test set: 1.00\n"
     ]
    }
   ],
   "source": [
    "# 5. Train a decision tree model on all the training data  \n",
    "# and report prediction accuracy on the test data.\n",
    "model.fit(X_train, Y_train)\n",
    "\n",
    "print('Accuracy on training set: {:.2f}'.format(model.score(X_train, Y_train)))\n",
    "\n",
    "print('Accuracy on test set: {:.2f}'.format(model.score(X_test, Y_test)))"
   ]
  },
  {
   "cell_type": "code",
   "execution_count": null,
   "metadata": {},
   "outputs": [],
   "source": []
  },
  {
   "cell_type": "code",
   "execution_count": 11,
   "metadata": {},
   "outputs": [
    {
     "name": "stdout",
     "output_type": "stream",
     "text": [
      "Confusion matrix, without normalization\n",
      "[[852   0]\n",
      " [  0 773]]\n",
      "Normalized confusion matrix\n",
      "[[1. 0.]\n",
      " [0. 1.]]\n"
     ]
    },
    {
     "name": "stderr",
     "output_type": "stream",
     "text": [
      "/Users/becoming1/anaconda3/lib/python3.7/site-packages/sklearn/utils/deprecation.py:87: FutureWarning: Function plot_confusion_matrix is deprecated; Function `plot_confusion_matrix` is deprecated in 1.0 and will be removed in 1.2. Use one of the class methods: ConfusionMatrixDisplay.from_predictions or ConfusionMatrixDisplay.from_estimator.\n",
      "  warnings.warn(msg, category=FutureWarning)\n",
      "/Users/becoming1/anaconda3/lib/python3.7/site-packages/sklearn/utils/deprecation.py:87: FutureWarning: Function plot_confusion_matrix is deprecated; Function `plot_confusion_matrix` is deprecated in 1.0 and will be removed in 1.2. Use one of the class methods: ConfusionMatrixDisplay.from_predictions or ConfusionMatrixDisplay.from_estimator.\n",
      "  warnings.warn(msg, category=FutureWarning)\n"
     ]
    },
    {
     "data": {
      "image/png": "[encoded data removed]",
      "text/plain": [
       "<Figure size 432x288 with 2 Axes>"
      ]
     },
     "metadata": {
      "needs_background": "light"
     },
     "output_type": "display_data"
    },
    {
     "data": {
      "image/png": "[encoded data removed]",
      "text/plain": [
       "<Figure size 432x288 with 2 Axes>"
      ]
     },
     "metadata": {
      "needs_background": "light"
     },
     "output_type": "display_data"
    }
   ],
   "source": [
    "# 8.Plot two confusion matrices for test set predictions \n",
    "np.set_printoptions(precision=2)\n",
    "\n",
    "titles_options = [(\"Confusion matrix, without normalization\", None),\n",
    "                  (\"Normalized confusion matrix\", 'true')]\n",
    "for title, normalize in titles_options:\n",
    "    disp = plot_confusion_matrix(model, X_test, Y_test,\n",
    "                                 display_labels=class_names,\n",
    "                                 cmap=plt.cm.Blues,\n",
    "                                 normalize=normalize)\n",
    "    disp.ax_.set_title(title)\n",
    "\n",
    "    print(title)\n",
    "    print(disp.confusion_matrix)\n",
    "\n",
    "plt.show()\n"
   ]
  },
  {
   "cell_type": "code",
   "execution_count": null,
   "metadata": {},
   "outputs": [],
   "source": []
  },
  {
   "cell_type": "code",
   "execution_count": null,
   "metadata": {},
   "outputs": [],
   "source": []
  }
 ],
 "metadata": {
  "kernelspec": {
   "display_name": "Python 3",
   "language": "python",
   "name": "python3"
  },
  "language_info": {
   "codemirror_mode": {
    "name": "ipython",
    "version": 3
   },
   "file_extension": ".py",
   "mimetype": "text/x-python",
   "name": "python",
   "nbconvert_exporter": "python",
   "pygments_lexer": "ipython3",
   "version": "3.7.3"
  }
 },
 "nbformat": 4,
 "nbformat_minor": 4
}
