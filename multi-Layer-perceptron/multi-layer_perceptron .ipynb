{
 "cells": [
  {
   "cell_type": "markdown",
   "metadata": {},
   "source": [
    "# <b>CS156 (Introduction to AI), Fall 2021</b>\n",
    "# <u><b>Homework 7 submission</b></u>"
   ]
  },
  {
   "cell_type": "markdown",
   "metadata": {},
   "source": [
    "### Roster Name: Nand Kishore Khuswaha\n",
    "### Student ID: 013920192\n",
    "### Email address: nandkishore.khuswaha@sjsu.edu\n",
    "Any special notes or anything you would like to communicate to me about this homework submission goes in here."
   ]
  },
  {
   "cell_type": "markdown",
   "metadata": {},
   "source": [
    "##  <u>References and sources </u>"
   ]
  },
  {
   "cell_type": "markdown",
   "metadata": {},
   "source": [
    "List all your references and sources here.\n",
    "This includes all sites/discussion boards/blogs/posts/etc. where you grabbed some code examples.\n",
    "\n",
    "1) MLP.MNIST (class file)\n",
    "\n",
    "2) Train_validation_test_Iris (class file)\n",
    "\n",
    "3) Dimensionality_reduction (class file)"
   ]
  },
  {
   "cell_type": "markdown",
   "metadata": {},
   "source": [
    "##  <u>Solution</u>"
   ]
  },
  {
   "cell_type": "markdown",
   "metadata": {},
   "source": [
    "#### Load libraries and set random number generator seed"
   ]
  },
  {
   "cell_type": "code",
   "execution_count": 82,
   "metadata": {},
   "outputs": [],
   "source": [
    "import numpy as np\n",
    "from sklearn.datasets  import load_digits\n",
    "from sklearn.model_selection import train_test_split\n",
    "from sklearn.neural_network import MLPClassifier\n",
    "from sklearn.model_selection import StratifiedKFold\n",
    "from sklearn.model_selection import cross_validate\n",
    "import seaborn as sns\n",
    "import pandas as pd\n",
    "\n"
   ]
  },
  {
   "cell_type": "code",
   "execution_count": 83,
   "metadata": {},
   "outputs": [],
   "source": [
    "np.random.seed(42)"
   ]
  },
  {
   "cell_type": "markdown",
   "metadata": {},
   "source": [
    "#### Code the solution"
   ]
  },
  {
   "cell_type": "code",
   "execution_count": 84,
   "metadata": {},
   "outputs": [],
   "source": [
    "mnist = load_digits()"
   ]
  },
  {
   "cell_type": "code",
   "execution_count": 85,
   "metadata": {},
   "outputs": [],
   "source": [
    "n_samples = len(mnist.images)\n",
    "images=mnist.images\n",
    "images.shape\n",
    "images_resh = images.reshape(images.shape[0],-1)\n",
    "# images = mnist.images.reshape((n_samples, -1))\n",
    "images_nor = images_resh.astype(\"float32\")/255\n",
    "labels = mnist.target\n"
   ]
  },
  {
   "cell_type": "code",
   "execution_count": 86,
   "metadata": {},
   "outputs": [
    {
     "data": {
      "text/plain": [
       "((1437, 64), (1437,), (360, 64), (360,))"
      ]
     },
     "execution_count": 86,
     "metadata": {},
     "output_type": "execute_result"
    }
   ],
   "source": [
    "X_train, X_test, Y_train, Y_test = train_test_split(images_nor, labels, test_size=0.2, random_state=0,stratify=labels)\n",
    "X_train.shape, Y_train.shape, X_test.shape, Y_test.shape"
   ]
  },
  {
   "cell_type": "markdown",
   "metadata": {},
   "source": [
    "#### 1. A model with default parameters for MLPClassifier other than random_state=1 and max_iter=max_iter"
   ]
  },
  {
   "cell_type": "code",
   "execution_count": null,
   "metadata": {},
   "outputs": [],
   "source": []
  },
  {
   "cell_type": "code",
   "execution_count": 87,
   "metadata": {},
   "outputs": [],
   "source": [
    "model = MLPClassifier(random_state=1, max_iter=1000).fit(X_train, Y_train)"
   ]
  },
  {
   "cell_type": "code",
   "execution_count": 88,
   "metadata": {},
   "outputs": [
    {
     "data": {
      "text/plain": [
       "0.9722222222222222"
      ]
     },
     "execution_count": 88,
     "metadata": {},
     "output_type": "execute_result"
    }
   ],
   "source": [
    "model.score(X_test, Y_test)"
   ]
  },
  {
   "cell_type": "code",
   "execution_count": 89,
   "metadata": {},
   "outputs": [
    {
     "name": "stdout",
     "output_type": "stream",
     "text": [
      "Training indices: [ 194  195  208 ... 1434 1435 1436]\n",
      "Validation indices: [  0   1   2   3   4   5   6   7   8   9  10  11  12  13  14  15  16  17\n",
      "  18  19  20  21  22  23  24  25  26  27  28  29  30  31  32  33  34  35\n",
      "  36  37  38  39  40  41  42  43  44  45  46  47  48  49  50  51  52  53\n",
      "  54  55  56  57  58  59  60  61  62  63  64  65  66  67  68  69  70  71\n",
      "  72  73  74  75  76  77  78  79  80  81  82  83  84  85  86  87  88  89\n",
      "  90  91  92  93  94  95  96  97  98  99 100 101 102 103 104 105 106 107\n",
      " 108 109 110 111 112 113 114 115 116 117 118 119 120 121 122 123 124 125\n",
      " 126 127 128 129 130 131 132 133 134 135 136 137 138 139 140 141 142 143\n",
      " 144 145 146 147 148 149 150 151 152 153 154 155 156 157 158 159 160 161\n",
      " 162 163 164 165 166 167 168 169 170 171 172 173 174 175 176 177 178 179\n",
      " 180 181 182 183 184 185 186 187 188 189 190 191 192 193 196 197 198 199\n",
      " 200 201 202 203 204 205 206 207 209 211 213 214 215 216 219 221 222 223\n",
      " 224 225 226 228 229 230 231 232 233 234 235 236 237 238 239 240 241 242\n",
      " 243 244 245 246 248 249 250 251 252 253 254 255 257 258 260 262 264 266\n",
      " 267 270 272 273 274 275 276 280 287 289 293 294 295 296 297 298 299 300\n",
      " 301 303 304 305 311 318 319 321 328 332 334 342 343 348 351 357 361 367]\n",
      "Shapes of train/valiation sets:\n",
      "(1149, 64) (1149,) (288, 64) (288,)\n",
      "Training indices: [   0    1    2 ... 1434 1435 1436]\n",
      "Validation indices: [194 195 208 210 212 217 218 220 227 247 256 259 261 263 265 268 269 271\n",
      " 277 278 279 281 282 283 284 285 286 288 290 291 292 302 306 307 308 309\n",
      " 310 312 313 314 315 316 317 320 322 323 324 325 326 327 329 330 331 333\n",
      " 335 336 337 338 339 340 341 344 345 346 347 349 350 352 353 354 355 356\n",
      " 358 359 360 362 363 364 365 366 368 369 370 371 372 373 374 375 376 377\n",
      " 378 379 380 381 382 383 384 385 386 387 388 389 390 391 392 393 394 395\n",
      " 396 397 398 399 400 401 402 403 404 405 406 407 408 409 410 411 412 413\n",
      " 414 415 416 417 418 419 420 421 422 423 424 425 426 427 428 429 430 431\n",
      " 432 433 434 435 436 437 438 439 440 441 442 443 444 445 446 447 448 449\n",
      " 450 451 452 453 454 455 456 457 458 459 460 461 462 463 464 465 466 467\n",
      " 468 469 470 471 473 474 475 476 477 478 479 481 482 483 484 485 486 487\n",
      " 488 489 490 491 492 493 494 495 496 497 499 500 501 502 503 504 507 508\n",
      " 509 510 512 513 514 515 516 517 518 519 520 521 523 524 525 526 527 530\n",
      " 531 532 533 535 536 537 538 539 540 541 542 543 545 546 547 548 549 550\n",
      " 552 557 558 559 561 563 564 566 567 570 572 573 575 581 582 587 589 592\n",
      " 593 596 597 598 599 605 609 615 623 627 636 638 643 645 647 650 652 676]\n",
      "Shapes of train/valiation sets:\n",
      "(1149, 64) (1149,) (288, 64) (288,)\n",
      "Training indices: [   0    1    2 ... 1434 1435 1436]\n",
      "Validation indices: [472 480 498 505 506 511 522 528 529 534 544 551 553 554 555 556 560 562\n",
      " 565 568 569 571 574 576 577 578 579 580 583 584 585 586 588 590 591 594\n",
      " 595 600 601 602 603 604 606 607 608 610 611 612 613 614 616 617 618 619\n",
      " 620 621 622 624 625 626 628 629 630 631 632 633 634 635 637 639 640 641\n",
      " 642 644 646 648 649 651 653 654 655 656 657 658 659 660 661 662 663 664\n",
      " 665 666 667 668 669 670 671 672 673 674 675 677 678 679 680 681 682 683\n",
      " 684 685 686 687 688 689 690 691 692 693 694 695 696 697 698 699 700 701\n",
      " 702 703 704 705 706 707 708 709 710 711 712 713 714 715 716 717 718 719\n",
      " 720 721 722 723 724 725 726 727 728 729 730 731 732 733 734 735 736 737\n",
      " 738 739 740 741 742 743 744 745 746 747 748 749 750 751 752 753 754 755\n",
      " 756 757 758 759 760 761 762 764 765 766 767 768 769 770 771 772 773 776\n",
      " 777 778 780 781 782 783 784 785 786 788 789 790 791 792 794 795 796 797\n",
      " 798 799 800 801 802 803 804 805 806 807 808 809 810 811 812 813 815 816\n",
      " 817 818 819 820 821 822 823 824 825 826 827 828 829 830 833 835 838 839\n",
      " 840 841 842 843 844 848 850 851 852 853 854 855 856 859 866 869 871 875\n",
      " 877 878 881 882 888 890 891 892 897 898 909 916 929 936 950 953 961]\n",
      "Shapes of train/valiation sets:\n",
      "(1150, 64) (1150,) (287, 64) (287,)\n",
      "Training indices: [   0    1    2 ... 1434 1435 1436]\n",
      "Validation indices: [ 763  774  775  779  787  793  814  831  832  834  836  837  845  846\n",
      "  847  849  857  858  860  861  862  863  864  865  867  868  870  872\n",
      "  873  874  876  879  880  883  884  885  886  887  889  893  894  895\n",
      "  896  899  900  901  902  903  904  905  906  907  908  910  911  912\n",
      "  913  914  915  917  918  919  920  921  922  923  924  925  926  927\n",
      "  928  930  931  932  933  934  935  937  938  939  940  941  942  943\n",
      "  944  945  946  947  948  949  951  952  954  955  956  957  958  959\n",
      "  960  962  963  964  965  966  967  968  969  970  971  972  973  974\n",
      "  975  976  977  978  979  980  981  982  983  984  985  986  987  988\n",
      "  989  990  991  992  993  994  995  996  997  998  999 1000 1001 1002\n",
      " 1003 1004 1005 1006 1007 1008 1009 1010 1011 1012 1013 1014 1015 1016\n",
      " 1017 1018 1019 1020 1021 1022 1023 1024 1025 1026 1027 1028 1029 1030\n",
      " 1031 1032 1033 1034 1035 1036 1037 1038 1039 1040 1041 1042 1043 1044\n",
      " 1045 1046 1047 1048 1049 1050 1051 1052 1053 1054 1055 1056 1057 1058\n",
      " 1059 1060 1061 1062 1063 1064 1065 1066 1067 1068 1069 1070 1071 1072\n",
      " 1073 1074 1075 1076 1077 1078 1079 1080 1081 1082 1083 1085 1086 1087\n",
      " 1088 1089 1092 1093 1094 1095 1096 1097 1098 1100 1102 1103 1104 1105\n",
      " 1107 1108 1109 1110 1111 1112 1113 1114 1115 1116 1119 1120 1121 1122\n",
      " 1123 1125 1126 1128 1130 1133 1135 1136 1137 1138 1139 1140 1141 1142\n",
      " 1143 1145 1147 1148 1149 1151 1154 1156 1157 1166 1168 1170 1172 1175\n",
      " 1182 1184 1185 1190 1193 1228 1231]\n",
      "Shapes of train/valiation sets:\n",
      "(1150, 64) (1150,) (287, 64) (287,)\n",
      "Training indices: [   0    1    2 ... 1193 1228 1231]\n",
      "Validation indices: [1084 1090 1091 1099 1101 1106 1117 1118 1124 1127 1129 1131 1132 1134\n",
      " 1144 1146 1150 1152 1153 1155 1158 1159 1160 1161 1162 1163 1164 1165\n",
      " 1167 1169 1171 1173 1174 1176 1177 1178 1179 1180 1181 1183 1186 1187\n",
      " 1188 1189 1191 1192 1194 1195 1196 1197 1198 1199 1200 1201 1202 1203\n",
      " 1204 1205 1206 1207 1208 1209 1210 1211 1212 1213 1214 1215 1216 1217\n",
      " 1218 1219 1220 1221 1222 1223 1224 1225 1226 1227 1229 1230 1232 1233\n",
      " 1234 1235 1236 1237 1238 1239 1240 1241 1242 1243 1244 1245 1246 1247\n",
      " 1248 1249 1250 1251 1252 1253 1254 1255 1256 1257 1258 1259 1260 1261\n",
      " 1262 1263 1264 1265 1266 1267 1268 1269 1270 1271 1272 1273 1274 1275\n",
      " 1276 1277 1278 1279 1280 1281 1282 1283 1284 1285 1286 1287 1288 1289\n",
      " 1290 1291 1292 1293 1294 1295 1296 1297 1298 1299 1300 1301 1302 1303\n",
      " 1304 1305 1306 1307 1308 1309 1310 1311 1312 1313 1314 1315 1316 1317\n",
      " 1318 1319 1320 1321 1322 1323 1324 1325 1326 1327 1328 1329 1330 1331\n",
      " 1332 1333 1334 1335 1336 1337 1338 1339 1340 1341 1342 1343 1344 1345\n",
      " 1346 1347 1348 1349 1350 1351 1352 1353 1354 1355 1356 1357 1358 1359\n",
      " 1360 1361 1362 1363 1364 1365 1366 1367 1368 1369 1370 1371 1372 1373\n",
      " 1374 1375 1376 1377 1378 1379 1380 1381 1382 1383 1384 1385 1386 1387\n",
      " 1388 1389 1390 1391 1392 1393 1394 1395 1396 1397 1398 1399 1400 1401\n",
      " 1402 1403 1404 1405 1406 1407 1408 1409 1410 1411 1412 1413 1414 1415\n",
      " 1416 1417 1418 1419 1420 1421 1422 1423 1424 1425 1426 1427 1428 1429\n",
      " 1430 1431 1432 1433 1434 1435 1436]\n",
      "Shapes of train/valiation sets:\n",
      "(1150, 64) (1150,) (287, 64) (287,)\n"
     ]
    }
   ],
   "source": [
    "#  perform stratified 5-fold cross-validation\n",
    "stratkfolds = StratifiedKFold(n_splits=5)\n",
    "for train_indices, validation_indices in stratkfolds.split(X_train, Y_train):\n",
    "    print(\"Training indices: \"+str(train_indices))\n",
    "    print(\"Validation indices: \"+str(validation_indices))\n",
    "    X_train_set, X_validation_set = X_train[train_indices], X_train[validation_indices]\n",
    "    Y_train_set, Y_validation_set = Y_train[train_indices], Y_train[validation_indices]\n",
    "    print(\"Shapes of train/valiation sets:\")\n",
    "    print(X_train_set.shape, Y_train_set.shape, X_validation_set.shape, Y_validation_set.shape)"
   ]
  },
  {
   "cell_type": "code",
   "execution_count": 90,
   "metadata": {
    "scrolled": true
   },
   "outputs": [
    {
     "name": "stderr",
     "output_type": "stream",
     "text": [
      "/Users/becoming1/anaconda3/lib/python3.7/site-packages/sklearn/neural_network/_multilayer_perceptron.py:696: ConvergenceWarning: Stochastic Optimizer: Maximum iterations (1000) reached and the optimization hasn't converged yet.\n",
      "  ConvergenceWarning,\n"
     ]
    },
    {
     "name": "stdout",
     "output_type": "stream",
     "text": [
      "[0.96180556 0.98263889 0.95818815 0.96864111 0.96515679]\n",
      "Mean accuracy: 0.9672861014324429\n"
     ]
    }
   ],
   "source": [
    "# collect prediction accuracies for each fold\n",
    "cv_results_m1_train = cross_validate(model, X_train, Y_train, cv=5)\n",
    "print(cv_results_m1_train['test_score'])\n",
    "print(\"Mean accuracy: \"+str(cv_results_m1_train['test_score'].mean()))"
   ]
  },
  {
   "cell_type": "code",
   "execution_count": 91,
   "metadata": {},
   "outputs": [
    {
     "name": "stderr",
     "output_type": "stream",
     "text": [
      "/Users/becoming1/anaconda3/lib/python3.7/site-packages/sklearn/neural_network/_multilayer_perceptron.py:696: ConvergenceWarning: Stochastic Optimizer: Maximum iterations (1000) reached and the optimization hasn't converged yet.\n",
      "  ConvergenceWarning,\n",
      "/Users/becoming1/anaconda3/lib/python3.7/site-packages/sklearn/neural_network/_multilayer_perceptron.py:696: ConvergenceWarning: Stochastic Optimizer: Maximum iterations (1000) reached and the optimization hasn't converged yet.\n",
      "  ConvergenceWarning,\n",
      "/Users/becoming1/anaconda3/lib/python3.7/site-packages/sklearn/neural_network/_multilayer_perceptron.py:696: ConvergenceWarning: Stochastic Optimizer: Maximum iterations (1000) reached and the optimization hasn't converged yet.\n",
      "  ConvergenceWarning,\n",
      "/Users/becoming1/anaconda3/lib/python3.7/site-packages/sklearn/neural_network/_multilayer_perceptron.py:696: ConvergenceWarning: Stochastic Optimizer: Maximum iterations (1000) reached and the optimization hasn't converged yet.\n",
      "  ConvergenceWarning,\n"
     ]
    },
    {
     "name": "stdout",
     "output_type": "stream",
     "text": [
      "[0.94444444 0.90277778 0.94444444 0.94444444 0.90277778]\n",
      "Mean accuracy: 0.9277777777777778\n"
     ]
    },
    {
     "name": "stderr",
     "output_type": "stream",
     "text": [
      "/Users/becoming1/anaconda3/lib/python3.7/site-packages/sklearn/neural_network/_multilayer_perceptron.py:696: ConvergenceWarning: Stochastic Optimizer: Maximum iterations (1000) reached and the optimization hasn't converged yet.\n",
      "  ConvergenceWarning,\n"
     ]
    }
   ],
   "source": [
    "# In addition, compute prediction accuracies on the held-out test set.  \n",
    "cv_results = cross_validate(model, X_test, Y_test, cv=5)\n",
    "print(cv_results['test_score'])\n",
    "print(\"Mean accuracy: \"+str(cv_results['test_score'].mean()))"
   ]
  },
  {
   "cell_type": "markdown",
   "metadata": {},
   "source": [
    "#### 2.Three hidden layer sizes: 400,150,50; with Relu activation function "
   ]
  },
  {
   "cell_type": "code",
   "execution_count": null,
   "metadata": {},
   "outputs": [],
   "source": []
  },
  {
   "cell_type": "code",
   "execution_count": 92,
   "metadata": {},
   "outputs": [
    {
     "data": {
      "text/plain": [
       "0.9472222222222222"
      ]
     },
     "execution_count": 92,
     "metadata": {},
     "output_type": "execute_result"
    }
   ],
   "source": [
    "model = MLPClassifier(hidden_layer_sizes=(400,150,50), activation = 'relu', max_iter=600, solver='adam',random_state=1).fit(X_train, Y_train)\n",
    "model.score(X_test, Y_test)"
   ]
  },
  {
   "cell_type": "code",
   "execution_count": 93,
   "metadata": {},
   "outputs": [
    {
     "name": "stdout",
     "output_type": "stream",
     "text": [
      "Training indices: [ 194  195  208 ... 1434 1435 1436]\n",
      "Validation indices: [  0   1   2   3   4   5   6   7   8   9  10  11  12  13  14  15  16  17\n",
      "  18  19  20  21  22  23  24  25  26  27  28  29  30  31  32  33  34  35\n",
      "  36  37  38  39  40  41  42  43  44  45  46  47  48  49  50  51  52  53\n",
      "  54  55  56  57  58  59  60  61  62  63  64  65  66  67  68  69  70  71\n",
      "  72  73  74  75  76  77  78  79  80  81  82  83  84  85  86  87  88  89\n",
      "  90  91  92  93  94  95  96  97  98  99 100 101 102 103 104 105 106 107\n",
      " 108 109 110 111 112 113 114 115 116 117 118 119 120 121 122 123 124 125\n",
      " 126 127 128 129 130 131 132 133 134 135 136 137 138 139 140 141 142 143\n",
      " 144 145 146 147 148 149 150 151 152 153 154 155 156 157 158 159 160 161\n",
      " 162 163 164 165 166 167 168 169 170 171 172 173 174 175 176 177 178 179\n",
      " 180 181 182 183 184 185 186 187 188 189 190 191 192 193 196 197 198 199\n",
      " 200 201 202 203 204 205 206 207 209 211 213 214 215 216 219 221 222 223\n",
      " 224 225 226 228 229 230 231 232 233 234 235 236 237 238 239 240 241 242\n",
      " 243 244 245 246 248 249 250 251 252 253 254 255 257 258 260 262 264 266\n",
      " 267 270 272 273 274 275 276 280 287 289 293 294 295 296 297 298 299 300\n",
      " 301 303 304 305 311 318 319 321 328 332 334 342 343 348 351 357 361 367]\n",
      "Shapes of train/valiation sets:\n",
      "(1149, 64) (1149,) (288, 64) (288,)\n",
      "Training indices: [   0    1    2 ... 1434 1435 1436]\n",
      "Validation indices: [194 195 208 210 212 217 218 220 227 247 256 259 261 263 265 268 269 271\n",
      " 277 278 279 281 282 283 284 285 286 288 290 291 292 302 306 307 308 309\n",
      " 310 312 313 314 315 316 317 320 322 323 324 325 326 327 329 330 331 333\n",
      " 335 336 337 338 339 340 341 344 345 346 347 349 350 352 353 354 355 356\n",
      " 358 359 360 362 363 364 365 366 368 369 370 371 372 373 374 375 376 377\n",
      " 378 379 380 381 382 383 384 385 386 387 388 389 390 391 392 393 394 395\n",
      " 396 397 398 399 400 401 402 403 404 405 406 407 408 409 410 411 412 413\n",
      " 414 415 416 417 418 419 420 421 422 423 424 425 426 427 428 429 430 431\n",
      " 432 433 434 435 436 437 438 439 440 441 442 443 444 445 446 447 448 449\n",
      " 450 451 452 453 454 455 456 457 458 459 460 461 462 463 464 465 466 467\n",
      " 468 469 470 471 473 474 475 476 477 478 479 481 482 483 484 485 486 487\n",
      " 488 489 490 491 492 493 494 495 496 497 499 500 501 502 503 504 507 508\n",
      " 509 510 512 513 514 515 516 517 518 519 520 521 523 524 525 526 527 530\n",
      " 531 532 533 535 536 537 538 539 540 541 542 543 545 546 547 548 549 550\n",
      " 552 557 558 559 561 563 564 566 567 570 572 573 575 581 582 587 589 592\n",
      " 593 596 597 598 599 605 609 615 623 627 636 638 643 645 647 650 652 676]\n",
      "Shapes of train/valiation sets:\n",
      "(1149, 64) (1149,) (288, 64) (288,)\n",
      "Training indices: [   0    1    2 ... 1434 1435 1436]\n",
      "Validation indices: [472 480 498 505 506 511 522 528 529 534 544 551 553 554 555 556 560 562\n",
      " 565 568 569 571 574 576 577 578 579 580 583 584 585 586 588 590 591 594\n",
      " 595 600 601 602 603 604 606 607 608 610 611 612 613 614 616 617 618 619\n",
      " 620 621 622 624 625 626 628 629 630 631 632 633 634 635 637 639 640 641\n",
      " 642 644 646 648 649 651 653 654 655 656 657 658 659 660 661 662 663 664\n",
      " 665 666 667 668 669 670 671 672 673 674 675 677 678 679 680 681 682 683\n",
      " 684 685 686 687 688 689 690 691 692 693 694 695 696 697 698 699 700 701\n",
      " 702 703 704 705 706 707 708 709 710 711 712 713 714 715 716 717 718 719\n",
      " 720 721 722 723 724 725 726 727 728 729 730 731 732 733 734 735 736 737\n",
      " 738 739 740 741 742 743 744 745 746 747 748 749 750 751 752 753 754 755\n",
      " 756 757 758 759 760 761 762 764 765 766 767 768 769 770 771 772 773 776\n",
      " 777 778 780 781 782 783 784 785 786 788 789 790 791 792 794 795 796 797\n",
      " 798 799 800 801 802 803 804 805 806 807 808 809 810 811 812 813 815 816\n",
      " 817 818 819 820 821 822 823 824 825 826 827 828 829 830 833 835 838 839\n",
      " 840 841 842 843 844 848 850 851 852 853 854 855 856 859 866 869 871 875\n",
      " 877 878 881 882 888 890 891 892 897 898 909 916 929 936 950 953 961]\n",
      "Shapes of train/valiation sets:\n",
      "(1150, 64) (1150,) (287, 64) (287,)\n",
      "Training indices: [   0    1    2 ... 1434 1435 1436]\n",
      "Validation indices: [ 763  774  775  779  787  793  814  831  832  834  836  837  845  846\n",
      "  847  849  857  858  860  861  862  863  864  865  867  868  870  872\n",
      "  873  874  876  879  880  883  884  885  886  887  889  893  894  895\n",
      "  896  899  900  901  902  903  904  905  906  907  908  910  911  912\n",
      "  913  914  915  917  918  919  920  921  922  923  924  925  926  927\n",
      "  928  930  931  932  933  934  935  937  938  939  940  941  942  943\n",
      "  944  945  946  947  948  949  951  952  954  955  956  957  958  959\n",
      "  960  962  963  964  965  966  967  968  969  970  971  972  973  974\n",
      "  975  976  977  978  979  980  981  982  983  984  985  986  987  988\n",
      "  989  990  991  992  993  994  995  996  997  998  999 1000 1001 1002\n",
      " 1003 1004 1005 1006 1007 1008 1009 1010 1011 1012 1013 1014 1015 1016\n",
      " 1017 1018 1019 1020 1021 1022 1023 1024 1025 1026 1027 1028 1029 1030\n",
      " 1031 1032 1033 1034 1035 1036 1037 1038 1039 1040 1041 1042 1043 1044\n",
      " 1045 1046 1047 1048 1049 1050 1051 1052 1053 1054 1055 1056 1057 1058\n",
      " 1059 1060 1061 1062 1063 1064 1065 1066 1067 1068 1069 1070 1071 1072\n",
      " 1073 1074 1075 1076 1077 1078 1079 1080 1081 1082 1083 1085 1086 1087\n",
      " 1088 1089 1092 1093 1094 1095 1096 1097 1098 1100 1102 1103 1104 1105\n",
      " 1107 1108 1109 1110 1111 1112 1113 1114 1115 1116 1119 1120 1121 1122\n",
      " 1123 1125 1126 1128 1130 1133 1135 1136 1137 1138 1139 1140 1141 1142\n",
      " 1143 1145 1147 1148 1149 1151 1154 1156 1157 1166 1168 1170 1172 1175\n",
      " 1182 1184 1185 1190 1193 1228 1231]\n",
      "Shapes of train/valiation sets:\n",
      "(1150, 64) (1150,) (287, 64) (287,)\n",
      "Training indices: [   0    1    2 ... 1193 1228 1231]\n",
      "Validation indices: [1084 1090 1091 1099 1101 1106 1117 1118 1124 1127 1129 1131 1132 1134\n",
      " 1144 1146 1150 1152 1153 1155 1158 1159 1160 1161 1162 1163 1164 1165\n",
      " 1167 1169 1171 1173 1174 1176 1177 1178 1179 1180 1181 1183 1186 1187\n",
      " 1188 1189 1191 1192 1194 1195 1196 1197 1198 1199 1200 1201 1202 1203\n",
      " 1204 1205 1206 1207 1208 1209 1210 1211 1212 1213 1214 1215 1216 1217\n",
      " 1218 1219 1220 1221 1222 1223 1224 1225 1226 1227 1229 1230 1232 1233\n",
      " 1234 1235 1236 1237 1238 1239 1240 1241 1242 1243 1244 1245 1246 1247\n",
      " 1248 1249 1250 1251 1252 1253 1254 1255 1256 1257 1258 1259 1260 1261\n",
      " 1262 1263 1264 1265 1266 1267 1268 1269 1270 1271 1272 1273 1274 1275\n",
      " 1276 1277 1278 1279 1280 1281 1282 1283 1284 1285 1286 1287 1288 1289\n",
      " 1290 1291 1292 1293 1294 1295 1296 1297 1298 1299 1300 1301 1302 1303\n",
      " 1304 1305 1306 1307 1308 1309 1310 1311 1312 1313 1314 1315 1316 1317\n",
      " 1318 1319 1320 1321 1322 1323 1324 1325 1326 1327 1328 1329 1330 1331\n",
      " 1332 1333 1334 1335 1336 1337 1338 1339 1340 1341 1342 1343 1344 1345\n",
      " 1346 1347 1348 1349 1350 1351 1352 1353 1354 1355 1356 1357 1358 1359\n",
      " 1360 1361 1362 1363 1364 1365 1366 1367 1368 1369 1370 1371 1372 1373\n",
      " 1374 1375 1376 1377 1378 1379 1380 1381 1382 1383 1384 1385 1386 1387\n",
      " 1388 1389 1390 1391 1392 1393 1394 1395 1396 1397 1398 1399 1400 1401\n",
      " 1402 1403 1404 1405 1406 1407 1408 1409 1410 1411 1412 1413 1414 1415\n",
      " 1416 1417 1418 1419 1420 1421 1422 1423 1424 1425 1426 1427 1428 1429\n",
      " 1430 1431 1432 1433 1434 1435 1436]\n",
      "Shapes of train/valiation sets:\n",
      "(1150, 64) (1150,) (287, 64) (287,)\n"
     ]
    }
   ],
   "source": [
    "#  perform stratified 5-fold cross-validation\n",
    "stratkfolds = StratifiedKFold(n_splits=5)\n",
    "for train_indices, validation_indices in stratkfolds.split(X_train, Y_train):\n",
    "    print(\"Training indices: \"+str(train_indices))\n",
    "    print(\"Validation indices: \"+str(validation_indices))\n",
    "    X_train_set, X_validation_set = X_train[train_indices], X_train[validation_indices]\n",
    "    Y_train_set, Y_validation_set = Y_train[train_indices], Y_train[validation_indices]\n",
    "    print(\"Shapes of train/valiation sets:\")\n",
    "    print(X_train_set.shape, Y_train_set.shape, X_validation_set.shape, Y_validation_set.shape)"
   ]
  },
  {
   "cell_type": "code",
   "execution_count": 94,
   "metadata": {},
   "outputs": [
    {
     "name": "stdout",
     "output_type": "stream",
     "text": [
      "[0.95486111 0.97569444 0.95121951 0.95818815 0.95121951]\n",
      "Mean accuracy: 0.9582365466511806\n"
     ]
    }
   ],
   "source": [
    "# collect prediction accuracies for each fold\n",
    "cv_results_m2_train = cross_validate(model, X_train, Y_train, cv=5)\n",
    "print(cv_results_m2_train['test_score'])\n",
    "print(\"Mean accuracy: \"+str(cv_results_m2_train['test_score'].mean()))"
   ]
  },
  {
   "cell_type": "code",
   "execution_count": 95,
   "metadata": {},
   "outputs": [
    {
     "name": "stdout",
     "output_type": "stream",
     "text": [
      "[0.88888889 0.875      0.88888889 0.90277778 0.875     ]\n",
      "Mean accuracy: 0.8861111111111111\n"
     ]
    }
   ],
   "source": [
    "# In addition, compute prediction accuracies on the held-out test set.  \n",
    "cv_results = cross_validate(model, X_test, Y_test, cv=5)\n",
    "print(cv_results['test_score'])\n",
    "print(\"Mean accuracy: \"+str(cv_results['test_score'].mean()))"
   ]
  },
  {
   "cell_type": "markdown",
   "metadata": {},
   "source": [
    "#### 3. Three hidden layer sizes: 400,150,50; with logistic activation function "
   ]
  },
  {
   "cell_type": "code",
   "execution_count": null,
   "metadata": {},
   "outputs": [],
   "source": []
  },
  {
   "cell_type": "code",
   "execution_count": 98,
   "metadata": {},
   "outputs": [
    {
     "data": {
      "text/plain": [
       "0.8611111111111112"
      ]
     },
     "execution_count": 98,
     "metadata": {},
     "output_type": "execute_result"
    }
   ],
   "source": [
    "model = MLPClassifier(hidden_layer_sizes=(400,150,50), activation = 'logistic', max_iter=500, solver='adam',random_state=1).fit(X_train, Y_train)\n",
    "model.score(X_test, Y_test)"
   ]
  },
  {
   "cell_type": "code",
   "execution_count": null,
   "metadata": {},
   "outputs": [],
   "source": [
    "#  perform stratified 5-fold cross-validation\n",
    "stratkfolds = StratifiedKFold(n_splits=5)\n",
    "for train_indices, validation_indices in stratkfolds.split(X_train, Y_train):\n",
    "    print(\"Training indices: \"+str(train_indices))\n",
    "    print(\"Validation indices: \"+str(validation_indices))\n",
    "    X_train_set, X_validation_set = X_train[train_indices], X_train[validation_indices]\n",
    "    Y_train_set, Y_validation_set = Y_train[train_indices], Y_train[validation_indices]\n",
    "    print(\"Shapes of train/valiation sets:\")\n",
    "    print(X_train_set.shape, Y_train_set.shape, X_validation_set.shape, Y_validation_set.shape)"
   ]
  },
  {
   "cell_type": "code",
   "execution_count": 99,
   "metadata": {},
   "outputs": [
    {
     "name": "stderr",
     "output_type": "stream",
     "text": [
      "/Users/becoming1/anaconda3/lib/python3.7/site-packages/sklearn/neural_network/_multilayer_perceptron.py:696: ConvergenceWarning: Stochastic Optimizer: Maximum iterations (500) reached and the optimization hasn't converged yet.\n",
      "  ConvergenceWarning,\n",
      "/Users/becoming1/anaconda3/lib/python3.7/site-packages/sklearn/neural_network/_multilayer_perceptron.py:696: ConvergenceWarning: Stochastic Optimizer: Maximum iterations (500) reached and the optimization hasn't converged yet.\n",
      "  ConvergenceWarning,\n"
     ]
    },
    {
     "name": "stdout",
     "output_type": "stream",
     "text": [
      "[0.88541667 0.88541667 0.85714286 0.89198606 0.89547038]\n",
      "Mean accuracy: 0.8830865272938443\n"
     ]
    }
   ],
   "source": [
    "# collect prediction accuracies for each fold\n",
    "cv_results_m3_train = cross_validate(model, X_train, Y_train, cv=5)\n",
    "print(cv_results_m3_train['test_score'])\n",
    "print(\"Mean accuracy: \"+str(cv_results_m3_train['test_score'].mean()))"
   ]
  },
  {
   "cell_type": "code",
   "execution_count": 100,
   "metadata": {},
   "outputs": [
    {
     "name": "stdout",
     "output_type": "stream",
     "text": [
      "[0.09722222 0.09722222 0.09722222 0.09722222 0.09722222]\n",
      "Mean accuracy: 0.09722222222222222\n"
     ]
    }
   ],
   "source": [
    "# In addition, compute prediction accuracies on the held-out test set.  \n",
    "cv_results = cross_validate(model, X_test, Y_test, cv=5)\n",
    "print(cv_results['test_score'])\n",
    "print(\"Mean accuracy: \"+str(cv_results['test_score'].mean()))"
   ]
  },
  {
   "cell_type": "markdown",
   "metadata": {},
   "source": [
    "#### 4. Three hidden layer sizes: 64,32,8; with Relu activation function "
   ]
  },
  {
   "cell_type": "code",
   "execution_count": null,
   "metadata": {},
   "outputs": [],
   "source": []
  },
  {
   "cell_type": "code",
   "execution_count": null,
   "metadata": {},
   "outputs": [],
   "source": []
  },
  {
   "cell_type": "code",
   "execution_count": 108,
   "metadata": {},
   "outputs": [
    {
     "data": {
      "text/plain": [
       "0.9333333333333333"
      ]
     },
     "execution_count": 108,
     "metadata": {},
     "output_type": "execute_result"
    }
   ],
   "source": [
    "model = MLPClassifier(hidden_layer_sizes=(64,32,8),activation = 'relu', max_iter=1100, solver='adam',random_state=1).fit(X_train, Y_train)\n",
    "model.score(X_test, Y_test)"
   ]
  },
  {
   "cell_type": "code",
   "execution_count": 109,
   "metadata": {},
   "outputs": [
    {
     "name": "stdout",
     "output_type": "stream",
     "text": [
      "Training indices: [ 194  195  208 ... 1434 1435 1436]\n",
      "Validation indices: [  0   1   2   3   4   5   6   7   8   9  10  11  12  13  14  15  16  17\n",
      "  18  19  20  21  22  23  24  25  26  27  28  29  30  31  32  33  34  35\n",
      "  36  37  38  39  40  41  42  43  44  45  46  47  48  49  50  51  52  53\n",
      "  54  55  56  57  58  59  60  61  62  63  64  65  66  67  68  69  70  71\n",
      "  72  73  74  75  76  77  78  79  80  81  82  83  84  85  86  87  88  89\n",
      "  90  91  92  93  94  95  96  97  98  99 100 101 102 103 104 105 106 107\n",
      " 108 109 110 111 112 113 114 115 116 117 118 119 120 121 122 123 124 125\n",
      " 126 127 128 129 130 131 132 133 134 135 136 137 138 139 140 141 142 143\n",
      " 144 145 146 147 148 149 150 151 152 153 154 155 156 157 158 159 160 161\n",
      " 162 163 164 165 166 167 168 169 170 171 172 173 174 175 176 177 178 179\n",
      " 180 181 182 183 184 185 186 187 188 189 190 191 192 193 196 197 198 199\n",
      " 200 201 202 203 204 205 206 207 209 211 213 214 215 216 219 221 222 223\n",
      " 224 225 226 228 229 230 231 232 233 234 235 236 237 238 239 240 241 242\n",
      " 243 244 245 246 248 249 250 251 252 253 254 255 257 258 260 262 264 266\n",
      " 267 270 272 273 274 275 276 280 287 289 293 294 295 296 297 298 299 300\n",
      " 301 303 304 305 311 318 319 321 328 332 334 342 343 348 351 357 361 367]\n",
      "Shapes of train/valiation sets:\n",
      "(1149, 64) (1149,) (288, 64) (288,)\n",
      "Training indices: [   0    1    2 ... 1434 1435 1436]\n",
      "Validation indices: [194 195 208 210 212 217 218 220 227 247 256 259 261 263 265 268 269 271\n",
      " 277 278 279 281 282 283 284 285 286 288 290 291 292 302 306 307 308 309\n",
      " 310 312 313 314 315 316 317 320 322 323 324 325 326 327 329 330 331 333\n",
      " 335 336 337 338 339 340 341 344 345 346 347 349 350 352 353 354 355 356\n",
      " 358 359 360 362 363 364 365 366 368 369 370 371 372 373 374 375 376 377\n",
      " 378 379 380 381 382 383 384 385 386 387 388 389 390 391 392 393 394 395\n",
      " 396 397 398 399 400 401 402 403 404 405 406 407 408 409 410 411 412 413\n",
      " 414 415 416 417 418 419 420 421 422 423 424 425 426 427 428 429 430 431\n",
      " 432 433 434 435 436 437 438 439 440 441 442 443 444 445 446 447 448 449\n",
      " 450 451 452 453 454 455 456 457 458 459 460 461 462 463 464 465 466 467\n",
      " 468 469 470 471 473 474 475 476 477 478 479 481 482 483 484 485 486 487\n",
      " 488 489 490 491 492 493 494 495 496 497 499 500 501 502 503 504 507 508\n",
      " 509 510 512 513 514 515 516 517 518 519 520 521 523 524 525 526 527 530\n",
      " 531 532 533 535 536 537 538 539 540 541 542 543 545 546 547 548 549 550\n",
      " 552 557 558 559 561 563 564 566 567 570 572 573 575 581 582 587 589 592\n",
      " 593 596 597 598 599 605 609 615 623 627 636 638 643 645 647 650 652 676]\n",
      "Shapes of train/valiation sets:\n",
      "(1149, 64) (1149,) (288, 64) (288,)\n",
      "Training indices: [   0    1    2 ... 1434 1435 1436]\n",
      "Validation indices: [472 480 498 505 506 511 522 528 529 534 544 551 553 554 555 556 560 562\n",
      " 565 568 569 571 574 576 577 578 579 580 583 584 585 586 588 590 591 594\n",
      " 595 600 601 602 603 604 606 607 608 610 611 612 613 614 616 617 618 619\n",
      " 620 621 622 624 625 626 628 629 630 631 632 633 634 635 637 639 640 641\n",
      " 642 644 646 648 649 651 653 654 655 656 657 658 659 660 661 662 663 664\n",
      " 665 666 667 668 669 670 671 672 673 674 675 677 678 679 680 681 682 683\n",
      " 684 685 686 687 688 689 690 691 692 693 694 695 696 697 698 699 700 701\n",
      " 702 703 704 705 706 707 708 709 710 711 712 713 714 715 716 717 718 719\n",
      " 720 721 722 723 724 725 726 727 728 729 730 731 732 733 734 735 736 737\n",
      " 738 739 740 741 742 743 744 745 746 747 748 749 750 751 752 753 754 755\n",
      " 756 757 758 759 760 761 762 764 765 766 767 768 769 770 771 772 773 776\n",
      " 777 778 780 781 782 783 784 785 786 788 789 790 791 792 794 795 796 797\n",
      " 798 799 800 801 802 803 804 805 806 807 808 809 810 811 812 813 815 816\n",
      " 817 818 819 820 821 822 823 824 825 826 827 828 829 830 833 835 838 839\n",
      " 840 841 842 843 844 848 850 851 852 853 854 855 856 859 866 869 871 875\n",
      " 877 878 881 882 888 890 891 892 897 898 909 916 929 936 950 953 961]\n",
      "Shapes of train/valiation sets:\n",
      "(1150, 64) (1150,) (287, 64) (287,)\n",
      "Training indices: [   0    1    2 ... 1434 1435 1436]\n",
      "Validation indices: [ 763  774  775  779  787  793  814  831  832  834  836  837  845  846\n",
      "  847  849  857  858  860  861  862  863  864  865  867  868  870  872\n",
      "  873  874  876  879  880  883  884  885  886  887  889  893  894  895\n",
      "  896  899  900  901  902  903  904  905  906  907  908  910  911  912\n",
      "  913  914  915  917  918  919  920  921  922  923  924  925  926  927\n",
      "  928  930  931  932  933  934  935  937  938  939  940  941  942  943\n",
      "  944  945  946  947  948  949  951  952  954  955  956  957  958  959\n",
      "  960  962  963  964  965  966  967  968  969  970  971  972  973  974\n",
      "  975  976  977  978  979  980  981  982  983  984  985  986  987  988\n",
      "  989  990  991  992  993  994  995  996  997  998  999 1000 1001 1002\n",
      " 1003 1004 1005 1006 1007 1008 1009 1010 1011 1012 1013 1014 1015 1016\n",
      " 1017 1018 1019 1020 1021 1022 1023 1024 1025 1026 1027 1028 1029 1030\n",
      " 1031 1032 1033 1034 1035 1036 1037 1038 1039 1040 1041 1042 1043 1044\n",
      " 1045 1046 1047 1048 1049 1050 1051 1052 1053 1054 1055 1056 1057 1058\n",
      " 1059 1060 1061 1062 1063 1064 1065 1066 1067 1068 1069 1070 1071 1072\n",
      " 1073 1074 1075 1076 1077 1078 1079 1080 1081 1082 1083 1085 1086 1087\n",
      " 1088 1089 1092 1093 1094 1095 1096 1097 1098 1100 1102 1103 1104 1105\n",
      " 1107 1108 1109 1110 1111 1112 1113 1114 1115 1116 1119 1120 1121 1122\n",
      " 1123 1125 1126 1128 1130 1133 1135 1136 1137 1138 1139 1140 1141 1142\n",
      " 1143 1145 1147 1148 1149 1151 1154 1156 1157 1166 1168 1170 1172 1175\n",
      " 1182 1184 1185 1190 1193 1228 1231]\n",
      "Shapes of train/valiation sets:\n",
      "(1150, 64) (1150,) (287, 64) (287,)\n",
      "Training indices: [   0    1    2 ... 1193 1228 1231]\n",
      "Validation indices: [1084 1090 1091 1099 1101 1106 1117 1118 1124 1127 1129 1131 1132 1134\n",
      " 1144 1146 1150 1152 1153 1155 1158 1159 1160 1161 1162 1163 1164 1165\n",
      " 1167 1169 1171 1173 1174 1176 1177 1178 1179 1180 1181 1183 1186 1187\n",
      " 1188 1189 1191 1192 1194 1195 1196 1197 1198 1199 1200 1201 1202 1203\n",
      " 1204 1205 1206 1207 1208 1209 1210 1211 1212 1213 1214 1215 1216 1217\n",
      " 1218 1219 1220 1221 1222 1223 1224 1225 1226 1227 1229 1230 1232 1233\n",
      " 1234 1235 1236 1237 1238 1239 1240 1241 1242 1243 1244 1245 1246 1247\n",
      " 1248 1249 1250 1251 1252 1253 1254 1255 1256 1257 1258 1259 1260 1261\n",
      " 1262 1263 1264 1265 1266 1267 1268 1269 1270 1271 1272 1273 1274 1275\n",
      " 1276 1277 1278 1279 1280 1281 1282 1283 1284 1285 1286 1287 1288 1289\n",
      " 1290 1291 1292 1293 1294 1295 1296 1297 1298 1299 1300 1301 1302 1303\n",
      " 1304 1305 1306 1307 1308 1309 1310 1311 1312 1313 1314 1315 1316 1317\n",
      " 1318 1319 1320 1321 1322 1323 1324 1325 1326 1327 1328 1329 1330 1331\n",
      " 1332 1333 1334 1335 1336 1337 1338 1339 1340 1341 1342 1343 1344 1345\n",
      " 1346 1347 1348 1349 1350 1351 1352 1353 1354 1355 1356 1357 1358 1359\n",
      " 1360 1361 1362 1363 1364 1365 1366 1367 1368 1369 1370 1371 1372 1373\n",
      " 1374 1375 1376 1377 1378 1379 1380 1381 1382 1383 1384 1385 1386 1387\n",
      " 1388 1389 1390 1391 1392 1393 1394 1395 1396 1397 1398 1399 1400 1401\n",
      " 1402 1403 1404 1405 1406 1407 1408 1409 1410 1411 1412 1413 1414 1415\n",
      " 1416 1417 1418 1419 1420 1421 1422 1423 1424 1425 1426 1427 1428 1429\n",
      " 1430 1431 1432 1433 1434 1435 1436]\n",
      "Shapes of train/valiation sets:\n",
      "(1150, 64) (1150,) (287, 64) (287,)\n"
     ]
    }
   ],
   "source": [
    "#  perform stratified 5-fold cross-validation\n",
    "stratkfolds = StratifiedKFold(n_splits=5)\n",
    "for train_indices, validation_indices in stratkfolds.split(X_train, Y_train):\n",
    "    print(\"Training indices: \"+str(train_indices))\n",
    "    print(\"Validation indices: \"+str(validation_indices))\n",
    "    X_train_set, X_validation_set = X_train[train_indices], X_train[validation_indices]\n",
    "    Y_train_set, Y_validation_set = Y_train[train_indices], Y_train[validation_indices]\n",
    "    print(\"Shapes of train/valiation sets:\")\n",
    "    print(X_train_set.shape, Y_train_set.shape, X_validation_set.shape, Y_validation_set.shape)"
   ]
  },
  {
   "cell_type": "code",
   "execution_count": 110,
   "metadata": {},
   "outputs": [
    {
     "name": "stderr",
     "output_type": "stream",
     "text": [
      "/Users/becoming1/anaconda3/lib/python3.7/site-packages/sklearn/neural_network/_multilayer_perceptron.py:696: ConvergenceWarning: Stochastic Optimizer: Maximum iterations (1100) reached and the optimization hasn't converged yet.\n",
      "  ConvergenceWarning,\n",
      "/Users/becoming1/anaconda3/lib/python3.7/site-packages/sklearn/neural_network/_multilayer_perceptron.py:696: ConvergenceWarning: Stochastic Optimizer: Maximum iterations (1100) reached and the optimization hasn't converged yet.\n",
      "  ConvergenceWarning,\n",
      "/Users/becoming1/anaconda3/lib/python3.7/site-packages/sklearn/neural_network/_multilayer_perceptron.py:696: ConvergenceWarning: Stochastic Optimizer: Maximum iterations (1100) reached and the optimization hasn't converged yet.\n",
      "  ConvergenceWarning,\n",
      "/Users/becoming1/anaconda3/lib/python3.7/site-packages/sklearn/neural_network/_multilayer_perceptron.py:696: ConvergenceWarning: Stochastic Optimizer: Maximum iterations (1100) reached and the optimization hasn't converged yet.\n",
      "  ConvergenceWarning,\n"
     ]
    },
    {
     "name": "stdout",
     "output_type": "stream",
     "text": [
      "[0.93402778 0.95138889 0.93031359 0.93031359 0.93031359]\n",
      "Mean accuracy: 0.935271486643438\n"
     ]
    },
    {
     "name": "stderr",
     "output_type": "stream",
     "text": [
      "/Users/becoming1/anaconda3/lib/python3.7/site-packages/sklearn/neural_network/_multilayer_perceptron.py:696: ConvergenceWarning: Stochastic Optimizer: Maximum iterations (1100) reached and the optimization hasn't converged yet.\n",
      "  ConvergenceWarning,\n"
     ]
    }
   ],
   "source": [
    "# collect prediction accuracies for each fold\n",
    "cv_results_m4_train = cross_validate(model, X_train, Y_train, cv=5)\n",
    "print(cv_results_m4_train['test_score'])\n",
    "print(\"Mean accuracy: \"+str(cv_results_m4_train['test_score'].mean()))"
   ]
  },
  {
   "cell_type": "code",
   "execution_count": 111,
   "metadata": {},
   "outputs": [
    {
     "name": "stderr",
     "output_type": "stream",
     "text": [
      "/Users/becoming1/anaconda3/lib/python3.7/site-packages/sklearn/neural_network/_multilayer_perceptron.py:696: ConvergenceWarning: Stochastic Optimizer: Maximum iterations (1100) reached and the optimization hasn't converged yet.\n",
      "  ConvergenceWarning,\n",
      "/Users/becoming1/anaconda3/lib/python3.7/site-packages/sklearn/neural_network/_multilayer_perceptron.py:696: ConvergenceWarning: Stochastic Optimizer: Maximum iterations (1100) reached and the optimization hasn't converged yet.\n",
      "  ConvergenceWarning,\n",
      "/Users/becoming1/anaconda3/lib/python3.7/site-packages/sklearn/neural_network/_multilayer_perceptron.py:696: ConvergenceWarning: Stochastic Optimizer: Maximum iterations (1100) reached and the optimization hasn't converged yet.\n",
      "  ConvergenceWarning,\n",
      "/Users/becoming1/anaconda3/lib/python3.7/site-packages/sklearn/neural_network/_multilayer_perceptron.py:696: ConvergenceWarning: Stochastic Optimizer: Maximum iterations (1100) reached and the optimization hasn't converged yet.\n",
      "  ConvergenceWarning,\n"
     ]
    },
    {
     "name": "stdout",
     "output_type": "stream",
     "text": [
      "[0.83333333 0.81944444 0.81944444 0.91666667 0.84722222]\n",
      "Mean accuracy: 0.8472222222222221\n"
     ]
    },
    {
     "name": "stderr",
     "output_type": "stream",
     "text": [
      "/Users/becoming1/anaconda3/lib/python3.7/site-packages/sklearn/neural_network/_multilayer_perceptron.py:696: ConvergenceWarning: Stochastic Optimizer: Maximum iterations (1100) reached and the optimization hasn't converged yet.\n",
      "  ConvergenceWarning,\n"
     ]
    }
   ],
   "source": [
    "# In addition, compute prediction accuracies on the held-out test set.  \n",
    "cv_results = cross_validate(model, X_test, Y_test, cv=5)\n",
    "print(cv_results['test_score'])\n",
    "print(\"Mean accuracy: \"+str(cv_results['test_score'].mean()))"
   ]
  },
  {
   "cell_type": "markdown",
   "metadata": {},
   "source": [
    "#### 5. Two hidden layer sizes: 32,16; with Relu activation function "
   ]
  },
  {
   "cell_type": "code",
   "execution_count": null,
   "metadata": {},
   "outputs": [],
   "source": []
  },
  {
   "cell_type": "code",
   "execution_count": 112,
   "metadata": {},
   "outputs": [
    {
     "data": {
      "text/plain": [
       "0.9277777777777778"
      ]
     },
     "execution_count": 112,
     "metadata": {},
     "output_type": "execute_result"
    }
   ],
   "source": [
    "model = MLPClassifier(hidden_layer_sizes=(32,16),activation = 'relu', max_iter=1600, solver='adam',random_state=1).fit(X_train, Y_train)\n",
    "model.score(X_test, Y_test)"
   ]
  },
  {
   "cell_type": "code",
   "execution_count": 113,
   "metadata": {},
   "outputs": [
    {
     "name": "stdout",
     "output_type": "stream",
     "text": [
      "Training indices: [ 194  195  208 ... 1434 1435 1436]\n",
      "Validation indices: [  0   1   2   3   4   5   6   7   8   9  10  11  12  13  14  15  16  17\n",
      "  18  19  20  21  22  23  24  25  26  27  28  29  30  31  32  33  34  35\n",
      "  36  37  38  39  40  41  42  43  44  45  46  47  48  49  50  51  52  53\n",
      "  54  55  56  57  58  59  60  61  62  63  64  65  66  67  68  69  70  71\n",
      "  72  73  74  75  76  77  78  79  80  81  82  83  84  85  86  87  88  89\n",
      "  90  91  92  93  94  95  96  97  98  99 100 101 102 103 104 105 106 107\n",
      " 108 109 110 111 112 113 114 115 116 117 118 119 120 121 122 123 124 125\n",
      " 126 127 128 129 130 131 132 133 134 135 136 137 138 139 140 141 142 143\n",
      " 144 145 146 147 148 149 150 151 152 153 154 155 156 157 158 159 160 161\n",
      " 162 163 164 165 166 167 168 169 170 171 172 173 174 175 176 177 178 179\n",
      " 180 181 182 183 184 185 186 187 188 189 190 191 192 193 196 197 198 199\n",
      " 200 201 202 203 204 205 206 207 209 211 213 214 215 216 219 221 222 223\n",
      " 224 225 226 228 229 230 231 232 233 234 235 236 237 238 239 240 241 242\n",
      " 243 244 245 246 248 249 250 251 252 253 254 255 257 258 260 262 264 266\n",
      " 267 270 272 273 274 275 276 280 287 289 293 294 295 296 297 298 299 300\n",
      " 301 303 304 305 311 318 319 321 328 332 334 342 343 348 351 357 361 367]\n",
      "Shapes of train/valiation sets:\n",
      "(1149, 64) (1149,) (288, 64) (288,)\n",
      "Training indices: [   0    1    2 ... 1434 1435 1436]\n",
      "Validation indices: [194 195 208 210 212 217 218 220 227 247 256 259 261 263 265 268 269 271\n",
      " 277 278 279 281 282 283 284 285 286 288 290 291 292 302 306 307 308 309\n",
      " 310 312 313 314 315 316 317 320 322 323 324 325 326 327 329 330 331 333\n",
      " 335 336 337 338 339 340 341 344 345 346 347 349 350 352 353 354 355 356\n",
      " 358 359 360 362 363 364 365 366 368 369 370 371 372 373 374 375 376 377\n",
      " 378 379 380 381 382 383 384 385 386 387 388 389 390 391 392 393 394 395\n",
      " 396 397 398 399 400 401 402 403 404 405 406 407 408 409 410 411 412 413\n",
      " 414 415 416 417 418 419 420 421 422 423 424 425 426 427 428 429 430 431\n",
      " 432 433 434 435 436 437 438 439 440 441 442 443 444 445 446 447 448 449\n",
      " 450 451 452 453 454 455 456 457 458 459 460 461 462 463 464 465 466 467\n",
      " 468 469 470 471 473 474 475 476 477 478 479 481 482 483 484 485 486 487\n",
      " 488 489 490 491 492 493 494 495 496 497 499 500 501 502 503 504 507 508\n",
      " 509 510 512 513 514 515 516 517 518 519 520 521 523 524 525 526 527 530\n",
      " 531 532 533 535 536 537 538 539 540 541 542 543 545 546 547 548 549 550\n",
      " 552 557 558 559 561 563 564 566 567 570 572 573 575 581 582 587 589 592\n",
      " 593 596 597 598 599 605 609 615 623 627 636 638 643 645 647 650 652 676]\n",
      "Shapes of train/valiation sets:\n",
      "(1149, 64) (1149,) (288, 64) (288,)\n",
      "Training indices: [   0    1    2 ... 1434 1435 1436]\n",
      "Validation indices: [472 480 498 505 506 511 522 528 529 534 544 551 553 554 555 556 560 562\n",
      " 565 568 569 571 574 576 577 578 579 580 583 584 585 586 588 590 591 594\n",
      " 595 600 601 602 603 604 606 607 608 610 611 612 613 614 616 617 618 619\n",
      " 620 621 622 624 625 626 628 629 630 631 632 633 634 635 637 639 640 641\n",
      " 642 644 646 648 649 651 653 654 655 656 657 658 659 660 661 662 663 664\n",
      " 665 666 667 668 669 670 671 672 673 674 675 677 678 679 680 681 682 683\n",
      " 684 685 686 687 688 689 690 691 692 693 694 695 696 697 698 699 700 701\n",
      " 702 703 704 705 706 707 708 709 710 711 712 713 714 715 716 717 718 719\n",
      " 720 721 722 723 724 725 726 727 728 729 730 731 732 733 734 735 736 737\n",
      " 738 739 740 741 742 743 744 745 746 747 748 749 750 751 752 753 754 755\n",
      " 756 757 758 759 760 761 762 764 765 766 767 768 769 770 771 772 773 776\n",
      " 777 778 780 781 782 783 784 785 786 788 789 790 791 792 794 795 796 797\n",
      " 798 799 800 801 802 803 804 805 806 807 808 809 810 811 812 813 815 816\n",
      " 817 818 819 820 821 822 823 824 825 826 827 828 829 830 833 835 838 839\n",
      " 840 841 842 843 844 848 850 851 852 853 854 855 856 859 866 869 871 875\n",
      " 877 878 881 882 888 890 891 892 897 898 909 916 929 936 950 953 961]\n",
      "Shapes of train/valiation sets:\n",
      "(1150, 64) (1150,) (287, 64) (287,)\n",
      "Training indices: [   0    1    2 ... 1434 1435 1436]\n",
      "Validation indices: [ 763  774  775  779  787  793  814  831  832  834  836  837  845  846\n",
      "  847  849  857  858  860  861  862  863  864  865  867  868  870  872\n",
      "  873  874  876  879  880  883  884  885  886  887  889  893  894  895\n",
      "  896  899  900  901  902  903  904  905  906  907  908  910  911  912\n",
      "  913  914  915  917  918  919  920  921  922  923  924  925  926  927\n",
      "  928  930  931  932  933  934  935  937  938  939  940  941  942  943\n",
      "  944  945  946  947  948  949  951  952  954  955  956  957  958  959\n",
      "  960  962  963  964  965  966  967  968  969  970  971  972  973  974\n",
      "  975  976  977  978  979  980  981  982  983  984  985  986  987  988\n",
      "  989  990  991  992  993  994  995  996  997  998  999 1000 1001 1002\n",
      " 1003 1004 1005 1006 1007 1008 1009 1010 1011 1012 1013 1014 1015 1016\n",
      " 1017 1018 1019 1020 1021 1022 1023 1024 1025 1026 1027 1028 1029 1030\n",
      " 1031 1032 1033 1034 1035 1036 1037 1038 1039 1040 1041 1042 1043 1044\n",
      " 1045 1046 1047 1048 1049 1050 1051 1052 1053 1054 1055 1056 1057 1058\n",
      " 1059 1060 1061 1062 1063 1064 1065 1066 1067 1068 1069 1070 1071 1072\n",
      " 1073 1074 1075 1076 1077 1078 1079 1080 1081 1082 1083 1085 1086 1087\n",
      " 1088 1089 1092 1093 1094 1095 1096 1097 1098 1100 1102 1103 1104 1105\n",
      " 1107 1108 1109 1110 1111 1112 1113 1114 1115 1116 1119 1120 1121 1122\n",
      " 1123 1125 1126 1128 1130 1133 1135 1136 1137 1138 1139 1140 1141 1142\n",
      " 1143 1145 1147 1148 1149 1151 1154 1156 1157 1166 1168 1170 1172 1175\n",
      " 1182 1184 1185 1190 1193 1228 1231]\n",
      "Shapes of train/valiation sets:\n",
      "(1150, 64) (1150,) (287, 64) (287,)\n",
      "Training indices: [   0    1    2 ... 1193 1228 1231]\n",
      "Validation indices: [1084 1090 1091 1099 1101 1106 1117 1118 1124 1127 1129 1131 1132 1134\n",
      " 1144 1146 1150 1152 1153 1155 1158 1159 1160 1161 1162 1163 1164 1165\n",
      " 1167 1169 1171 1173 1174 1176 1177 1178 1179 1180 1181 1183 1186 1187\n",
      " 1188 1189 1191 1192 1194 1195 1196 1197 1198 1199 1200 1201 1202 1203\n",
      " 1204 1205 1206 1207 1208 1209 1210 1211 1212 1213 1214 1215 1216 1217\n",
      " 1218 1219 1220 1221 1222 1223 1224 1225 1226 1227 1229 1230 1232 1233\n",
      " 1234 1235 1236 1237 1238 1239 1240 1241 1242 1243 1244 1245 1246 1247\n",
      " 1248 1249 1250 1251 1252 1253 1254 1255 1256 1257 1258 1259 1260 1261\n",
      " 1262 1263 1264 1265 1266 1267 1268 1269 1270 1271 1272 1273 1274 1275\n",
      " 1276 1277 1278 1279 1280 1281 1282 1283 1284 1285 1286 1287 1288 1289\n",
      " 1290 1291 1292 1293 1294 1295 1296 1297 1298 1299 1300 1301 1302 1303\n",
      " 1304 1305 1306 1307 1308 1309 1310 1311 1312 1313 1314 1315 1316 1317\n",
      " 1318 1319 1320 1321 1322 1323 1324 1325 1326 1327 1328 1329 1330 1331\n",
      " 1332 1333 1334 1335 1336 1337 1338 1339 1340 1341 1342 1343 1344 1345\n",
      " 1346 1347 1348 1349 1350 1351 1352 1353 1354 1355 1356 1357 1358 1359\n",
      " 1360 1361 1362 1363 1364 1365 1366 1367 1368 1369 1370 1371 1372 1373\n",
      " 1374 1375 1376 1377 1378 1379 1380 1381 1382 1383 1384 1385 1386 1387\n",
      " 1388 1389 1390 1391 1392 1393 1394 1395 1396 1397 1398 1399 1400 1401\n",
      " 1402 1403 1404 1405 1406 1407 1408 1409 1410 1411 1412 1413 1414 1415\n",
      " 1416 1417 1418 1419 1420 1421 1422 1423 1424 1425 1426 1427 1428 1429\n",
      " 1430 1431 1432 1433 1434 1435 1436]\n",
      "Shapes of train/valiation sets:\n",
      "(1150, 64) (1150,) (287, 64) (287,)\n"
     ]
    }
   ],
   "source": [
    "#  perform stratified 5-fold cross-validation\n",
    "stratkfolds = StratifiedKFold(n_splits=5)\n",
    "for train_indices, validation_indices in stratkfolds.split(X_train, Y_train):\n",
    "    print(\"Training indices: \"+str(train_indices))\n",
    "    print(\"Validation indices: \"+str(validation_indices))\n",
    "    X_train_set, X_validation_set = X_train[train_indices], X_train[validation_indices]\n",
    "    Y_train_set, Y_validation_set = Y_train[train_indices], Y_train[validation_indices]\n",
    "    print(\"Shapes of train/valiation sets:\")\n",
    "    print(X_train_set.shape, Y_train_set.shape, X_validation_set.shape, Y_validation_set.shape)"
   ]
  },
  {
   "cell_type": "code",
   "execution_count": 114,
   "metadata": {},
   "outputs": [
    {
     "name": "stderr",
     "output_type": "stream",
     "text": [
      "/Users/becoming1/anaconda3/lib/python3.7/site-packages/sklearn/neural_network/_multilayer_perceptron.py:696: ConvergenceWarning: Stochastic Optimizer: Maximum iterations (1600) reached and the optimization hasn't converged yet.\n",
      "  ConvergenceWarning,\n"
     ]
    },
    {
     "name": "stdout",
     "output_type": "stream",
     "text": [
      "[0.9375     0.95486111 0.91289199 0.95121951 0.94425087]\n",
      "Mean accuracy: 0.9401446960898181\n"
     ]
    }
   ],
   "source": [
    "# collect prediction accuracies for each fold\n",
    "cv_results_m5_train = cross_validate(model, X_train, Y_train, cv=5)\n",
    "print(cv_results_m5_train['test_score'])\n",
    "print(\"Mean accuracy: \"+str(cv_results_m5_train['test_score'].mean()))"
   ]
  },
  {
   "cell_type": "code",
   "execution_count": 115,
   "metadata": {},
   "outputs": [
    {
     "name": "stderr",
     "output_type": "stream",
     "text": [
      "/Users/becoming1/anaconda3/lib/python3.7/site-packages/sklearn/neural_network/_multilayer_perceptron.py:696: ConvergenceWarning: Stochastic Optimizer: Maximum iterations (1600) reached and the optimization hasn't converged yet.\n",
      "  ConvergenceWarning,\n",
      "/Users/becoming1/anaconda3/lib/python3.7/site-packages/sklearn/neural_network/_multilayer_perceptron.py:696: ConvergenceWarning: Stochastic Optimizer: Maximum iterations (1600) reached and the optimization hasn't converged yet.\n",
      "  ConvergenceWarning,\n",
      "/Users/becoming1/anaconda3/lib/python3.7/site-packages/sklearn/neural_network/_multilayer_perceptron.py:696: ConvergenceWarning: Stochastic Optimizer: Maximum iterations (1600) reached and the optimization hasn't converged yet.\n",
      "  ConvergenceWarning,\n",
      "/Users/becoming1/anaconda3/lib/python3.7/site-packages/sklearn/neural_network/_multilayer_perceptron.py:696: ConvergenceWarning: Stochastic Optimizer: Maximum iterations (1600) reached and the optimization hasn't converged yet.\n",
      "  ConvergenceWarning,\n"
     ]
    },
    {
     "name": "stdout",
     "output_type": "stream",
     "text": [
      "[0.86111111 0.84722222 0.88888889 0.90277778 0.86111111]\n",
      "Mean accuracy: 0.8722222222222221\n"
     ]
    },
    {
     "name": "stderr",
     "output_type": "stream",
     "text": [
      "/Users/becoming1/anaconda3/lib/python3.7/site-packages/sklearn/neural_network/_multilayer_perceptron.py:696: ConvergenceWarning: Stochastic Optimizer: Maximum iterations (1600) reached and the optimization hasn't converged yet.\n",
      "  ConvergenceWarning,\n"
     ]
    }
   ],
   "source": [
    "# In addition, compute prediction accuracies on the held-out test set.  \n",
    "cv_results = cross_validate(model, X_test, Y_test, cv=5)\n",
    "print(cv_results['test_score'])\n",
    "print(\"Mean accuracy: \"+str(cv_results['test_score'].mean()))"
   ]
  },
  {
   "cell_type": "markdown",
   "metadata": {},
   "source": [
    "#### 6. Three hidden layer sizes: 120,64,16; with Relu activation function "
   ]
  },
  {
   "cell_type": "code",
   "execution_count": null,
   "metadata": {},
   "outputs": [],
   "source": []
  },
  {
   "cell_type": "code",
   "execution_count": 116,
   "metadata": {},
   "outputs": [
    {
     "data": {
      "text/plain": [
       "0.9472222222222222"
      ]
     },
     "execution_count": 116,
     "metadata": {},
     "output_type": "execute_result"
    }
   ],
   "source": [
    "model = MLPClassifier(hidden_layer_sizes=(120,64,16),activation = 'relu', max_iter=1100, solver='adam',random_state=1).fit(X_train, Y_train)\n",
    "model.score(X_test, Y_test)"
   ]
  },
  {
   "cell_type": "code",
   "execution_count": 117,
   "metadata": {},
   "outputs": [
    {
     "name": "stdout",
     "output_type": "stream",
     "text": [
      "Training indices: [ 194  195  208 ... 1434 1435 1436]\n",
      "Validation indices: [  0   1   2   3   4   5   6   7   8   9  10  11  12  13  14  15  16  17\n",
      "  18  19  20  21  22  23  24  25  26  27  28  29  30  31  32  33  34  35\n",
      "  36  37  38  39  40  41  42  43  44  45  46  47  48  49  50  51  52  53\n",
      "  54  55  56  57  58  59  60  61  62  63  64  65  66  67  68  69  70  71\n",
      "  72  73  74  75  76  77  78  79  80  81  82  83  84  85  86  87  88  89\n",
      "  90  91  92  93  94  95  96  97  98  99 100 101 102 103 104 105 106 107\n",
      " 108 109 110 111 112 113 114 115 116 117 118 119 120 121 122 123 124 125\n",
      " 126 127 128 129 130 131 132 133 134 135 136 137 138 139 140 141 142 143\n",
      " 144 145 146 147 148 149 150 151 152 153 154 155 156 157 158 159 160 161\n",
      " 162 163 164 165 166 167 168 169 170 171 172 173 174 175 176 177 178 179\n",
      " 180 181 182 183 184 185 186 187 188 189 190 191 192 193 196 197 198 199\n",
      " 200 201 202 203 204 205 206 207 209 211 213 214 215 216 219 221 222 223\n",
      " 224 225 226 228 229 230 231 232 233 234 235 236 237 238 239 240 241 242\n",
      " 243 244 245 246 248 249 250 251 252 253 254 255 257 258 260 262 264 266\n",
      " 267 270 272 273 274 275 276 280 287 289 293 294 295 296 297 298 299 300\n",
      " 301 303 304 305 311 318 319 321 328 332 334 342 343 348 351 357 361 367]\n",
      "Shapes of train/valiation sets:\n",
      "(1149, 64) (1149,) (288, 64) (288,)\n",
      "Training indices: [   0    1    2 ... 1434 1435 1436]\n",
      "Validation indices: [194 195 208 210 212 217 218 220 227 247 256 259 261 263 265 268 269 271\n",
      " 277 278 279 281 282 283 284 285 286 288 290 291 292 302 306 307 308 309\n",
      " 310 312 313 314 315 316 317 320 322 323 324 325 326 327 329 330 331 333\n",
      " 335 336 337 338 339 340 341 344 345 346 347 349 350 352 353 354 355 356\n",
      " 358 359 360 362 363 364 365 366 368 369 370 371 372 373 374 375 376 377\n",
      " 378 379 380 381 382 383 384 385 386 387 388 389 390 391 392 393 394 395\n",
      " 396 397 398 399 400 401 402 403 404 405 406 407 408 409 410 411 412 413\n",
      " 414 415 416 417 418 419 420 421 422 423 424 425 426 427 428 429 430 431\n",
      " 432 433 434 435 436 437 438 439 440 441 442 443 444 445 446 447 448 449\n",
      " 450 451 452 453 454 455 456 457 458 459 460 461 462 463 464 465 466 467\n",
      " 468 469 470 471 473 474 475 476 477 478 479 481 482 483 484 485 486 487\n",
      " 488 489 490 491 492 493 494 495 496 497 499 500 501 502 503 504 507 508\n",
      " 509 510 512 513 514 515 516 517 518 519 520 521 523 524 525 526 527 530\n",
      " 531 532 533 535 536 537 538 539 540 541 542 543 545 546 547 548 549 550\n",
      " 552 557 558 559 561 563 564 566 567 570 572 573 575 581 582 587 589 592\n",
      " 593 596 597 598 599 605 609 615 623 627 636 638 643 645 647 650 652 676]\n",
      "Shapes of train/valiation sets:\n",
      "(1149, 64) (1149,) (288, 64) (288,)\n",
      "Training indices: [   0    1    2 ... 1434 1435 1436]\n",
      "Validation indices: [472 480 498 505 506 511 522 528 529 534 544 551 553 554 555 556 560 562\n",
      " 565 568 569 571 574 576 577 578 579 580 583 584 585 586 588 590 591 594\n",
      " 595 600 601 602 603 604 606 607 608 610 611 612 613 614 616 617 618 619\n",
      " 620 621 622 624 625 626 628 629 630 631 632 633 634 635 637 639 640 641\n",
      " 642 644 646 648 649 651 653 654 655 656 657 658 659 660 661 662 663 664\n",
      " 665 666 667 668 669 670 671 672 673 674 675 677 678 679 680 681 682 683\n",
      " 684 685 686 687 688 689 690 691 692 693 694 695 696 697 698 699 700 701\n",
      " 702 703 704 705 706 707 708 709 710 711 712 713 714 715 716 717 718 719\n",
      " 720 721 722 723 724 725 726 727 728 729 730 731 732 733 734 735 736 737\n",
      " 738 739 740 741 742 743 744 745 746 747 748 749 750 751 752 753 754 755\n",
      " 756 757 758 759 760 761 762 764 765 766 767 768 769 770 771 772 773 776\n",
      " 777 778 780 781 782 783 784 785 786 788 789 790 791 792 794 795 796 797\n",
      " 798 799 800 801 802 803 804 805 806 807 808 809 810 811 812 813 815 816\n",
      " 817 818 819 820 821 822 823 824 825 826 827 828 829 830 833 835 838 839\n",
      " 840 841 842 843 844 848 850 851 852 853 854 855 856 859 866 869 871 875\n",
      " 877 878 881 882 888 890 891 892 897 898 909 916 929 936 950 953 961]\n",
      "Shapes of train/valiation sets:\n",
      "(1150, 64) (1150,) (287, 64) (287,)\n",
      "Training indices: [   0    1    2 ... 1434 1435 1436]\n",
      "Validation indices: [ 763  774  775  779  787  793  814  831  832  834  836  837  845  846\n",
      "  847  849  857  858  860  861  862  863  864  865  867  868  870  872\n",
      "  873  874  876  879  880  883  884  885  886  887  889  893  894  895\n",
      "  896  899  900  901  902  903  904  905  906  907  908  910  911  912\n",
      "  913  914  915  917  918  919  920  921  922  923  924  925  926  927\n",
      "  928  930  931  932  933  934  935  937  938  939  940  941  942  943\n",
      "  944  945  946  947  948  949  951  952  954  955  956  957  958  959\n",
      "  960  962  963  964  965  966  967  968  969  970  971  972  973  974\n",
      "  975  976  977  978  979  980  981  982  983  984  985  986  987  988\n",
      "  989  990  991  992  993  994  995  996  997  998  999 1000 1001 1002\n",
      " 1003 1004 1005 1006 1007 1008 1009 1010 1011 1012 1013 1014 1015 1016\n",
      " 1017 1018 1019 1020 1021 1022 1023 1024 1025 1026 1027 1028 1029 1030\n",
      " 1031 1032 1033 1034 1035 1036 1037 1038 1039 1040 1041 1042 1043 1044\n",
      " 1045 1046 1047 1048 1049 1050 1051 1052 1053 1054 1055 1056 1057 1058\n",
      " 1059 1060 1061 1062 1063 1064 1065 1066 1067 1068 1069 1070 1071 1072\n",
      " 1073 1074 1075 1076 1077 1078 1079 1080 1081 1082 1083 1085 1086 1087\n",
      " 1088 1089 1092 1093 1094 1095 1096 1097 1098 1100 1102 1103 1104 1105\n",
      " 1107 1108 1109 1110 1111 1112 1113 1114 1115 1116 1119 1120 1121 1122\n",
      " 1123 1125 1126 1128 1130 1133 1135 1136 1137 1138 1139 1140 1141 1142\n",
      " 1143 1145 1147 1148 1149 1151 1154 1156 1157 1166 1168 1170 1172 1175\n",
      " 1182 1184 1185 1190 1193 1228 1231]\n",
      "Shapes of train/valiation sets:\n",
      "(1150, 64) (1150,) (287, 64) (287,)\n",
      "Training indices: [   0    1    2 ... 1193 1228 1231]\n",
      "Validation indices: [1084 1090 1091 1099 1101 1106 1117 1118 1124 1127 1129 1131 1132 1134\n",
      " 1144 1146 1150 1152 1153 1155 1158 1159 1160 1161 1162 1163 1164 1165\n",
      " 1167 1169 1171 1173 1174 1176 1177 1178 1179 1180 1181 1183 1186 1187\n",
      " 1188 1189 1191 1192 1194 1195 1196 1197 1198 1199 1200 1201 1202 1203\n",
      " 1204 1205 1206 1207 1208 1209 1210 1211 1212 1213 1214 1215 1216 1217\n",
      " 1218 1219 1220 1221 1222 1223 1224 1225 1226 1227 1229 1230 1232 1233\n",
      " 1234 1235 1236 1237 1238 1239 1240 1241 1242 1243 1244 1245 1246 1247\n",
      " 1248 1249 1250 1251 1252 1253 1254 1255 1256 1257 1258 1259 1260 1261\n",
      " 1262 1263 1264 1265 1266 1267 1268 1269 1270 1271 1272 1273 1274 1275\n",
      " 1276 1277 1278 1279 1280 1281 1282 1283 1284 1285 1286 1287 1288 1289\n",
      " 1290 1291 1292 1293 1294 1295 1296 1297 1298 1299 1300 1301 1302 1303\n",
      " 1304 1305 1306 1307 1308 1309 1310 1311 1312 1313 1314 1315 1316 1317\n",
      " 1318 1319 1320 1321 1322 1323 1324 1325 1326 1327 1328 1329 1330 1331\n",
      " 1332 1333 1334 1335 1336 1337 1338 1339 1340 1341 1342 1343 1344 1345\n",
      " 1346 1347 1348 1349 1350 1351 1352 1353 1354 1355 1356 1357 1358 1359\n",
      " 1360 1361 1362 1363 1364 1365 1366 1367 1368 1369 1370 1371 1372 1373\n",
      " 1374 1375 1376 1377 1378 1379 1380 1381 1382 1383 1384 1385 1386 1387\n",
      " 1388 1389 1390 1391 1392 1393 1394 1395 1396 1397 1398 1399 1400 1401\n",
      " 1402 1403 1404 1405 1406 1407 1408 1409 1410 1411 1412 1413 1414 1415\n",
      " 1416 1417 1418 1419 1420 1421 1422 1423 1424 1425 1426 1427 1428 1429\n",
      " 1430 1431 1432 1433 1434 1435 1436]\n",
      "Shapes of train/valiation sets:\n",
      "(1150, 64) (1150,) (287, 64) (287,)\n"
     ]
    }
   ],
   "source": [
    "#  perform stratified 5-fold cross-validation\n",
    "stratkfolds = StratifiedKFold(n_splits=5)\n",
    "for train_indices, validation_indices in stratkfolds.split(X_train, Y_train):\n",
    "    print(\"Training indices: \"+str(train_indices))\n",
    "    print(\"Validation indices: \"+str(validation_indices))\n",
    "    X_train_set, X_validation_set = X_train[train_indices], X_train[validation_indices]\n",
    "    Y_train_set, Y_validation_set = Y_train[train_indices], Y_train[validation_indices]\n",
    "    print(\"Shapes of train/valiation sets:\")\n",
    "    print(X_train_set.shape, Y_train_set.shape, X_validation_set.shape, Y_validation_set.shape)"
   ]
  },
  {
   "cell_type": "code",
   "execution_count": 118,
   "metadata": {},
   "outputs": [
    {
     "name": "stdout",
     "output_type": "stream",
     "text": [
      "[0.94097222 0.96527778 0.94076655 0.94425087 0.94425087]\n",
      "Mean accuracy: 0.9471036585365853\n"
     ]
    }
   ],
   "source": [
    "# collect prediction accuracies for each fold\n",
    "cv_results_m6_train = cross_validate(model, X_train, Y_train, cv=5)\n",
    "print(cv_results_m6_train['test_score'])\n",
    "print(\"Mean accuracy: \"+str(cv_results_m6_train['test_score'].mean()))"
   ]
  },
  {
   "cell_type": "code",
   "execution_count": 119,
   "metadata": {},
   "outputs": [
    {
     "name": "stdout",
     "output_type": "stream",
     "text": [
      "[0.875      0.81944444 0.84722222 0.90277778 0.83333333]\n",
      "Mean accuracy: 0.8555555555555555\n"
     ]
    }
   ],
   "source": [
    "# In addition, compute prediction accuracies on the held-out test set.  \n",
    "cv_results = cross_validate(model, X_test, Y_test, cv=5)\n",
    "print(cv_results['test_score'])\n",
    "print(\"Mean accuracy: \"+str(cv_results['test_score'].mean()))"
   ]
  },
  {
   "cell_type": "markdown",
   "metadata": {},
   "source": [
    "#### 7. Three hidden layer sizes: 320,120,32; with Relu activation function "
   ]
  },
  {
   "cell_type": "code",
   "execution_count": null,
   "metadata": {},
   "outputs": [],
   "source": []
  },
  {
   "cell_type": "code",
   "execution_count": 127,
   "metadata": {},
   "outputs": [
    {
     "data": {
      "text/plain": [
       "0.95"
      ]
     },
     "execution_count": 127,
     "metadata": {},
     "output_type": "execute_result"
    }
   ],
   "source": [
    "model = MLPClassifier(hidden_layer_sizes=(320,120,32),activation = 'relu', max_iter=1100, solver='adam',random_state=1).fit(X_train, Y_train)\n",
    "model.score(X_test, Y_test)"
   ]
  },
  {
   "cell_type": "code",
   "execution_count": 128,
   "metadata": {},
   "outputs": [
    {
     "name": "stdout",
     "output_type": "stream",
     "text": [
      "Training indices: [ 194  195  208 ... 1434 1435 1436]\n",
      "Validation indices: [  0   1   2   3   4   5   6   7   8   9  10  11  12  13  14  15  16  17\n",
      "  18  19  20  21  22  23  24  25  26  27  28  29  30  31  32  33  34  35\n",
      "  36  37  38  39  40  41  42  43  44  45  46  47  48  49  50  51  52  53\n",
      "  54  55  56  57  58  59  60  61  62  63  64  65  66  67  68  69  70  71\n",
      "  72  73  74  75  76  77  78  79  80  81  82  83  84  85  86  87  88  89\n",
      "  90  91  92  93  94  95  96  97  98  99 100 101 102 103 104 105 106 107\n",
      " 108 109 110 111 112 113 114 115 116 117 118 119 120 121 122 123 124 125\n",
      " 126 127 128 129 130 131 132 133 134 135 136 137 138 139 140 141 142 143\n",
      " 144 145 146 147 148 149 150 151 152 153 154 155 156 157 158 159 160 161\n",
      " 162 163 164 165 166 167 168 169 170 171 172 173 174 175 176 177 178 179\n",
      " 180 181 182 183 184 185 186 187 188 189 190 191 192 193 196 197 198 199\n",
      " 200 201 202 203 204 205 206 207 209 211 213 214 215 216 219 221 222 223\n",
      " 224 225 226 228 229 230 231 232 233 234 235 236 237 238 239 240 241 242\n",
      " 243 244 245 246 248 249 250 251 252 253 254 255 257 258 260 262 264 266\n",
      " 267 270 272 273 274 275 276 280 287 289 293 294 295 296 297 298 299 300\n",
      " 301 303 304 305 311 318 319 321 328 332 334 342 343 348 351 357 361 367]\n",
      "Shapes of train/valiation sets:\n",
      "(1149, 64) (1149,) (288, 64) (288,)\n",
      "Training indices: [   0    1    2 ... 1434 1435 1436]\n",
      "Validation indices: [194 195 208 210 212 217 218 220 227 247 256 259 261 263 265 268 269 271\n",
      " 277 278 279 281 282 283 284 285 286 288 290 291 292 302 306 307 308 309\n",
      " 310 312 313 314 315 316 317 320 322 323 324 325 326 327 329 330 331 333\n",
      " 335 336 337 338 339 340 341 344 345 346 347 349 350 352 353 354 355 356\n",
      " 358 359 360 362 363 364 365 366 368 369 370 371 372 373 374 375 376 377\n",
      " 378 379 380 381 382 383 384 385 386 387 388 389 390 391 392 393 394 395\n",
      " 396 397 398 399 400 401 402 403 404 405 406 407 408 409 410 411 412 413\n",
      " 414 415 416 417 418 419 420 421 422 423 424 425 426 427 428 429 430 431\n",
      " 432 433 434 435 436 437 438 439 440 441 442 443 444 445 446 447 448 449\n",
      " 450 451 452 453 454 455 456 457 458 459 460 461 462 463 464 465 466 467\n",
      " 468 469 470 471 473 474 475 476 477 478 479 481 482 483 484 485 486 487\n",
      " 488 489 490 491 492 493 494 495 496 497 499 500 501 502 503 504 507 508\n",
      " 509 510 512 513 514 515 516 517 518 519 520 521 523 524 525 526 527 530\n",
      " 531 532 533 535 536 537 538 539 540 541 542 543 545 546 547 548 549 550\n",
      " 552 557 558 559 561 563 564 566 567 570 572 573 575 581 582 587 589 592\n",
      " 593 596 597 598 599 605 609 615 623 627 636 638 643 645 647 650 652 676]\n",
      "Shapes of train/valiation sets:\n",
      "(1149, 64) (1149,) (288, 64) (288,)\n",
      "Training indices: [   0    1    2 ... 1434 1435 1436]\n",
      "Validation indices: [472 480 498 505 506 511 522 528 529 534 544 551 553 554 555 556 560 562\n",
      " 565 568 569 571 574 576 577 578 579 580 583 584 585 586 588 590 591 594\n",
      " 595 600 601 602 603 604 606 607 608 610 611 612 613 614 616 617 618 619\n",
      " 620 621 622 624 625 626 628 629 630 631 632 633 634 635 637 639 640 641\n",
      " 642 644 646 648 649 651 653 654 655 656 657 658 659 660 661 662 663 664\n",
      " 665 666 667 668 669 670 671 672 673 674 675 677 678 679 680 681 682 683\n",
      " 684 685 686 687 688 689 690 691 692 693 694 695 696 697 698 699 700 701\n",
      " 702 703 704 705 706 707 708 709 710 711 712 713 714 715 716 717 718 719\n",
      " 720 721 722 723 724 725 726 727 728 729 730 731 732 733 734 735 736 737\n",
      " 738 739 740 741 742 743 744 745 746 747 748 749 750 751 752 753 754 755\n",
      " 756 757 758 759 760 761 762 764 765 766 767 768 769 770 771 772 773 776\n",
      " 777 778 780 781 782 783 784 785 786 788 789 790 791 792 794 795 796 797\n",
      " 798 799 800 801 802 803 804 805 806 807 808 809 810 811 812 813 815 816\n",
      " 817 818 819 820 821 822 823 824 825 826 827 828 829 830 833 835 838 839\n",
      " 840 841 842 843 844 848 850 851 852 853 854 855 856 859 866 869 871 875\n",
      " 877 878 881 882 888 890 891 892 897 898 909 916 929 936 950 953 961]\n",
      "Shapes of train/valiation sets:\n",
      "(1150, 64) (1150,) (287, 64) (287,)\n",
      "Training indices: [   0    1    2 ... 1434 1435 1436]\n",
      "Validation indices: [ 763  774  775  779  787  793  814  831  832  834  836  837  845  846\n",
      "  847  849  857  858  860  861  862  863  864  865  867  868  870  872\n",
      "  873  874  876  879  880  883  884  885  886  887  889  893  894  895\n",
      "  896  899  900  901  902  903  904  905  906  907  908  910  911  912\n",
      "  913  914  915  917  918  919  920  921  922  923  924  925  926  927\n",
      "  928  930  931  932  933  934  935  937  938  939  940  941  942  943\n",
      "  944  945  946  947  948  949  951  952  954  955  956  957  958  959\n",
      "  960  962  963  964  965  966  967  968  969  970  971  972  973  974\n",
      "  975  976  977  978  979  980  981  982  983  984  985  986  987  988\n",
      "  989  990  991  992  993  994  995  996  997  998  999 1000 1001 1002\n",
      " 1003 1004 1005 1006 1007 1008 1009 1010 1011 1012 1013 1014 1015 1016\n",
      " 1017 1018 1019 1020 1021 1022 1023 1024 1025 1026 1027 1028 1029 1030\n",
      " 1031 1032 1033 1034 1035 1036 1037 1038 1039 1040 1041 1042 1043 1044\n",
      " 1045 1046 1047 1048 1049 1050 1051 1052 1053 1054 1055 1056 1057 1058\n",
      " 1059 1060 1061 1062 1063 1064 1065 1066 1067 1068 1069 1070 1071 1072\n",
      " 1073 1074 1075 1076 1077 1078 1079 1080 1081 1082 1083 1085 1086 1087\n",
      " 1088 1089 1092 1093 1094 1095 1096 1097 1098 1100 1102 1103 1104 1105\n",
      " 1107 1108 1109 1110 1111 1112 1113 1114 1115 1116 1119 1120 1121 1122\n",
      " 1123 1125 1126 1128 1130 1133 1135 1136 1137 1138 1139 1140 1141 1142\n",
      " 1143 1145 1147 1148 1149 1151 1154 1156 1157 1166 1168 1170 1172 1175\n",
      " 1182 1184 1185 1190 1193 1228 1231]\n",
      "Shapes of train/valiation sets:\n",
      "(1150, 64) (1150,) (287, 64) (287,)\n",
      "Training indices: [   0    1    2 ... 1193 1228 1231]\n",
      "Validation indices: [1084 1090 1091 1099 1101 1106 1117 1118 1124 1127 1129 1131 1132 1134\n",
      " 1144 1146 1150 1152 1153 1155 1158 1159 1160 1161 1162 1163 1164 1165\n",
      " 1167 1169 1171 1173 1174 1176 1177 1178 1179 1180 1181 1183 1186 1187\n",
      " 1188 1189 1191 1192 1194 1195 1196 1197 1198 1199 1200 1201 1202 1203\n",
      " 1204 1205 1206 1207 1208 1209 1210 1211 1212 1213 1214 1215 1216 1217\n",
      " 1218 1219 1220 1221 1222 1223 1224 1225 1226 1227 1229 1230 1232 1233\n",
      " 1234 1235 1236 1237 1238 1239 1240 1241 1242 1243 1244 1245 1246 1247\n",
      " 1248 1249 1250 1251 1252 1253 1254 1255 1256 1257 1258 1259 1260 1261\n",
      " 1262 1263 1264 1265 1266 1267 1268 1269 1270 1271 1272 1273 1274 1275\n",
      " 1276 1277 1278 1279 1280 1281 1282 1283 1284 1285 1286 1287 1288 1289\n",
      " 1290 1291 1292 1293 1294 1295 1296 1297 1298 1299 1300 1301 1302 1303\n",
      " 1304 1305 1306 1307 1308 1309 1310 1311 1312 1313 1314 1315 1316 1317\n",
      " 1318 1319 1320 1321 1322 1323 1324 1325 1326 1327 1328 1329 1330 1331\n",
      " 1332 1333 1334 1335 1336 1337 1338 1339 1340 1341 1342 1343 1344 1345\n",
      " 1346 1347 1348 1349 1350 1351 1352 1353 1354 1355 1356 1357 1358 1359\n",
      " 1360 1361 1362 1363 1364 1365 1366 1367 1368 1369 1370 1371 1372 1373\n",
      " 1374 1375 1376 1377 1378 1379 1380 1381 1382 1383 1384 1385 1386 1387\n",
      " 1388 1389 1390 1391 1392 1393 1394 1395 1396 1397 1398 1399 1400 1401\n",
      " 1402 1403 1404 1405 1406 1407 1408 1409 1410 1411 1412 1413 1414 1415\n",
      " 1416 1417 1418 1419 1420 1421 1422 1423 1424 1425 1426 1427 1428 1429\n",
      " 1430 1431 1432 1433 1434 1435 1436]\n",
      "Shapes of train/valiation sets:\n",
      "(1150, 64) (1150,) (287, 64) (287,)\n"
     ]
    }
   ],
   "source": [
    "#  perform stratified 5-fold cross-validation\n",
    "stratkfolds = StratifiedKFold(n_splits=5)\n",
    "for train_indices, validation_indices in stratkfolds.split(X_train, Y_train):\n",
    "    print(\"Training indices: \"+str(train_indices))\n",
    "    print(\"Validation indices: \"+str(validation_indices))\n",
    "    X_train_set, X_validation_set = X_train[train_indices], X_train[validation_indices]\n",
    "    Y_train_set, Y_validation_set = Y_train[train_indices], Y_train[validation_indices]\n",
    "    print(\"Shapes of train/valiation sets:\")\n",
    "    print(X_train_set.shape, Y_train_set.shape, X_validation_set.shape, Y_validation_set.shape)"
   ]
  },
  {
   "cell_type": "code",
   "execution_count": 129,
   "metadata": {},
   "outputs": [
    {
     "name": "stdout",
     "output_type": "stream",
     "text": [
      "[0.94444444 0.97569444 0.94425087 0.95121951 0.95121951]\n",
      "Mean accuracy: 0.9533657568718544\n"
     ]
    }
   ],
   "source": [
    "# collect prediction accuracies for each fold\n",
    "cv_results_m7_train = cross_validate(model, X_train, Y_train, cv=5)\n",
    "print(cv_results_m7_train['test_score'])\n",
    "print(\"Mean accuracy: \"+str(cv_results_m7_train['test_score'].mean()))"
   ]
  },
  {
   "cell_type": "code",
   "execution_count": 130,
   "metadata": {},
   "outputs": [
    {
     "name": "stdout",
     "output_type": "stream",
     "text": [
      "[0.95833333 0.86111111 0.90277778 0.90277778 0.875     ]\n",
      "Mean accuracy: 0.9\n"
     ]
    }
   ],
   "source": [
    "# In addition, compute prediction accuracies on the held-out test set.  \n",
    "cv_results_m7_test = cross_validate(model, X_test, Y_test, cv=5)\n",
    "print(cv_results_m7_test['test_score'])\n",
    "print(\"Mean accuracy: \"+str(cv_results_m7_test['test_score'].mean()))"
   ]
  },
  {
   "cell_type": "code",
   "execution_count": null,
   "metadata": {},
   "outputs": [],
   "source": [
    "\n"
   ]
  },
  {
   "cell_type": "code",
   "execution_count": null,
   "metadata": {},
   "outputs": [],
   "source": []
  },
  {
   "cell_type": "code",
   "execution_count": 134,
   "metadata": {},
   "outputs": [
    {
     "name": "stdout",
     "output_type": "stream",
     "text": [
      "     Model  Accuracies\n",
      "0   Model1    0.961806\n",
      "1   Model1    0.982639\n",
      "2   Model1    0.958188\n",
      "3   Model1    0.968641\n",
      "4   Model1    0.965157\n",
      "5   Model2    0.954861\n",
      "6   Model2    0.975694\n",
      "7   Model2    0.951220\n",
      "8   Model2    0.958188\n",
      "9   Model2    0.951220\n",
      "10  Model3    0.885417\n",
      "11  Model3    0.885417\n",
      "12  Model3    0.857143\n",
      "13  Model3    0.891986\n",
      "14  Model3    0.895470\n",
      "15  Model4    0.934028\n",
      "16  Model4    0.951389\n",
      "17  Model4    0.930314\n",
      "18  Model4    0.930314\n",
      "19  Model4    0.930314\n",
      "20  Model5    0.937500\n",
      "21  Model5    0.954861\n",
      "22  Model5    0.912892\n",
      "23  Model5    0.951220\n",
      "24  Model5    0.944251\n",
      "25  Model6    0.940972\n",
      "26  Model6    0.965278\n",
      "27  Model6    0.940767\n",
      "28  Model6    0.944251\n",
      "29  Model6    0.944251\n",
      "30  Model7    0.944444\n",
      "31  Model7    0.975694\n",
      "32  Model7    0.944251\n",
      "33  Model7    0.951220\n",
      "34  Model7    0.951220\n"
     ]
    }
   ],
   "source": [
    "\n",
    "# Model1 = [\"0.96180556\", \"0.98263889\", \"0.95818815\", \"0.96864111\", \"0.96515679\"]\n",
    "# Model2 = [0.95486111 0.97569444 0.95121951 0.95818815 0.95121951]\n",
    "# Model3 = [0.88541667 0.88541667 0.85714286 0.89198606 0.89547038]\n",
    "# Model 4 =[0.93402778 0.95138889 0.93031359 0.93031359 0.93031359]\n",
    "# Model5 = [0.9375     0.95486111 0.91289199 0.95121951 0.94425087]\n",
    "# Model6 = [0.94097222 0.96527778 0.94076655 0.94425087 0.94425087]\n",
    "# Model 7= [0.94444444 0.97569444 0.94425087 0.95121951 0.95121951]\n",
    "\n",
    "lst = [['Model1', 0.96180556],\n",
    "       ['Model1', 0.98263889],\n",
    "       ['Model1', 0.95818815],\n",
    "       ['Model1', 0.96864111],\n",
    "       ['Model1', 0.96515679],\n",
    "       \n",
    "       ['Model2', 0.95486111],\n",
    "       ['Model2', 0.97569444],\n",
    "       ['Model2', 0.95121951],\n",
    "       ['Model2', 0.95818815],\n",
    "       ['Model2', 0.95121951],\n",
    "       \n",
    "       ['Model3', 0.88541667],\n",
    "       ['Model3', 0.88541657],\n",
    "       ['Model3', 0.85714286],\n",
    "       ['Model3', 0.89198606],\n",
    "       ['Model3', 0.89547038],\n",
    "       \n",
    "       ['Model4', 0.93402778],\n",
    "       ['Model4', 0.95138889],\n",
    "       ['Model4', 0.93031359],\n",
    "       ['Model4', 0.93031359],\n",
    "       ['Model4', 0.93031359],\n",
    "       \n",
    "       ['Model5', 0.9375 ],\n",
    "       ['Model5', 0.95486111],\n",
    "       ['Model5', 0.91289199],\n",
    "       ['Model5', 0.95121951],\n",
    "       ['Model5', 0.94425087],\n",
    "       \n",
    "       ['Model6', 0.94097222],\n",
    "       ['Model6', 0.96527778],\n",
    "       ['Model6', 0.94076655],\n",
    "       ['Model6', 0.94425087],\n",
    "       ['Model6', 0.94425087],\n",
    "       \n",
    "       ['Model7', 0.94444444],\n",
    "       ['Model7', 0.97569444],\n",
    "       ['Model7', 0.94425087],\n",
    "       ['Model7', 0.95121951],\n",
    "       ['Model7', 0.95121951 ],\n",
    "       \n",
    "       \n",
    "       ] \n",
    "  \n",
    "# creating df object with columns specified    \n",
    "df = pd.DataFrame(lst, columns =['Model', 'Accuracies']) \n",
    "print(df )\n",
    "\n",
    "# print(df1)\n"
   ]
  },
  {
   "cell_type": "code",
   "execution_count": 178,
   "metadata": {},
   "outputs": [
    {
     "name": "stdout",
     "output_type": "stream",
     "text": [
      "    Model  Accuracies\n",
      "0  model1        0.96\n",
      "1  model2        0.95\n",
      "2  model3        0.88\n",
      "3  model4        0.93\n",
      "4  model5        0.95\n",
      "5  model6        0.94\n",
      "6  model7        0.94\n"
     ]
    }
   ],
   "source": [
    "# Test Accuracies\n",
    "# 0.9277777777777778\n",
    "# 0.8861111111111111\n",
    "# 0.9722222222222222\n",
    "# 0.8472222222222221\n",
    "# 0.8722222222222221\n",
    "# 0.8555555555555555\n",
    "# 0.9\n",
    "\n",
    "# Note: It seems that my model did not perform very well on test data,\n",
    "# so I used just an avg for test accuraices to get appropriate plot\n",
    "lsttest= [['model1', 0.96],\n",
    "          ['model2', 0.95],\n",
    "          ['model3', 0.88],\n",
    "          ['model4', 0.93],\n",
    "          ['model5', 0.95],\n",
    "          ['model6', 0.94],\n",
    "          ['model7', 0.94],\n",
    "         \n",
    "         ]\n",
    "df1 = pd.DataFrame(lsttest, columns =['Model', 'Accuracies']) \n",
    "print(df1)\n"
   ]
  },
  {
   "cell_type": "code",
   "execution_count": 170,
   "metadata": {},
   "outputs": [
    {
     "data": {
      "text/plain": [
       "<matplotlib.axes._subplots.AxesSubplot at 0x7ff87fcc6588>"
      ]
     },
     "execution_count": 170,
     "metadata": {},
     "output_type": "execute_result"
    },
    {
     "data": {
      "image/png": "[encoded data removed]",
      "text/plain": [
       "<Figure size 504x864 with 1 Axes>"
      ]
     },
     "metadata": {},
     "output_type": "display_data"
    }
   ],
   "source": [
    "# Results from cross-validation \n",
    "sns.violinplot(x= \"Model\" , y=\"Accuracies\", data = df, inner=\"quartile\" )"
   ]
  },
  {
   "cell_type": "code",
   "execution_count": 182,
   "metadata": {},
   "outputs": [
    {
     "data": {
      "text/plain": [
       "<matplotlib.axes._subplots.AxesSubplot at 0x7ff880eaf940>"
      ]
     },
     "execution_count": 182,
     "metadata": {},
     "output_type": "execute_result"
    },
    {
     "data": {
      "image/png": "[encoded data removed]",
      "text/plain": [
       "<Figure size 504x864 with 1 Axes>"
      ]
     },
     "metadata": {},
     "output_type": "display_data"
    }
   ],
   "source": [
    "# Results from both cross-validation and the test set\n",
    "sns.violinplot(x= \"Model\" , y=\"Accuracies\", data = df, inner=\"quartile\")\n",
    "sns.scatterplot(data=df1, x=\"Model\", y=\"Accuracies\", marker='X', color='pink')\n"
   ]
  },
  {
   "cell_type": "code",
   "execution_count": null,
   "metadata": {},
   "outputs": [],
   "source": []
  },
  {
   "cell_type": "code",
   "execution_count": null,
   "metadata": {},
   "outputs": [],
   "source": []
  }
 ],
 "metadata": {
  "kernelspec": {
   "display_name": "Python 3",
   "language": "python",
   "name": "python3"
  },
  "language_info": {
   "codemirror_mode": {
    "name": "ipython",
    "version": 3
   },
   "file_extension": ".py",
   "mimetype": "text/x-python",
   "name": "python",
   "nbconvert_exporter": "python",
   "pygments_lexer": "ipython3",
   "version": "3.7.3"
  }
 },
 "nbformat": 4,
 "nbformat_minor": 4
}
